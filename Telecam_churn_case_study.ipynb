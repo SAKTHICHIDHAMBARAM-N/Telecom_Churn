{
 "cells": [
  {
   "cell_type": "code",
   "execution_count": null,
   "id": "0b145b7d",
   "metadata": {},
   "outputs": [],
   "source": [
    "# Data Handling\n",
    "import pandas as pd\n",
    "import numpy as np\n",
    "import datetime as dt\n",
    "import warnings\n",
    "import re\n",
    "\n",
    "# Visualization\n",
    "from IPython.display import display\n",
    "import matplotlib.pyplot as plt\n",
    "import seaborn as sns\n",
    "from palettable.colorbrewer.qualitative import Pastel1_7\n",
    "\n",
    "\n",
    "# Data pre-processing - Class Balancing and Scaling\n",
    "from imblearn.over_sampling import SMOTE\n",
    "from imblearn.over_sampling import ADASYN\n",
    "from imblearn.under_sampling import RandomUnderSampler\n",
    "from sklearn.model_selection import train_test_split\n",
    "from sklearn.preprocessing import RobustScaler\n",
    "from sklearn.preprocessing import StandardScaler\n",
    "from sklearn.preprocessing import MinMaxScaler\n",
    "\n",
    "# Feature Dimension Engineering\n",
    "from sklearn.decomposition import PCA\n",
    "from sklearn.decomposition import IncrementalPCA\n",
    "from sklearn.feature_selection import RFE\n",
    "from statsmodels.stats.outliers_influence import variance_inflation_factor\n",
    "\n",
    "# Models\n",
    "from sklearn.linear_model import LogisticRegression\n",
    "from sklearn.ensemble import RandomForestClassifier\n",
    "from sklearn.ensemble import AdaBoostClassifier\n",
    "import statsmodels.api as sm\n",
    "from xgboost import XGBClassifier\n",
    "\n",
    "# Model Tuning \n",
    "from sklearn.model_selection import KFold\n",
    "from sklearn.model_selection import GridSearchCV"
   ]
  },
  {
   "cell_type": "code",
   "execution_count": null,
   "id": "c9d1b0c3",
   "metadata": {},
   "outputs": [],
   "source": [
    "# Calculate Metrics\n",
    "from sklearn.metrics import classification_report,confusion_matrix, accuracy_score\n",
    "from sklearn.metrics import roc_auc_score,roc_curve,precision_recall_curve \n",
    "from sklearn import metrics\n",
    "from scipy.stats import norm\n",
    "\n",
    "# Set the session options\n",
    "%matplotlib inline\n",
    "pd.options.display.max_columns = None\n",
    "pd.options.display.max_rows = None\n",
    "warnings.filterwarnings(\"ignore\")\n",
    "pd.options.display.float_format = '{:,.2f}'.format"
   ]
  },
  {
   "cell_type": "code",
   "execution_count": null,
   "id": "b793746c",
   "metadata": {},
   "outputs": [],
   "source": [
    "# Read data into Dataframe\n",
    "cust_data = pd.read_csv('telecom_churn_data.csv')\n"
   ]
  },
  {
   "cell_type": "code",
   "execution_count": null,
   "id": "c0f61915",
   "metadata": {},
   "outputs": [],
   "source": [
    "cust_data.head()"
   ]
  },
  {
   "cell_type": "code",
   "execution_count": null,
   "id": "17360bbe",
   "metadata": {},
   "outputs": [],
   "source": [
    "# Check Data Dimensions, data types and the NaN distribution\n",
    "print(cust_data.shape)\n",
    "print('\\n ---- Null Values ---- ')\n",
    "print(cust_data.isnull().sum(axis=0).sort_values(ascending=False))"
   ]
  },
  {
   "cell_type": "markdown",
   "id": "72d383fa",
   "metadata": {},
   "source": [
    "# Identify High Value Customers and assign Churn label as applicable"
   ]
  },
  {
   "cell_type": "code",
   "execution_count": null,
   "id": "6490d8ec",
   "metadata": {},
   "outputs": [],
   "source": [
    "# Sanity check for average and total data recharge features\n",
    "cols=cust_data.columns\n",
    "av_reg=re.compile(r'av_rech_amt_data_*')\n",
    "tot_reg=re.compile(r'total_rech_data_*')\n",
    "data_rech_cols=list(filter(av_reg.match,cols))+list(filter(tot_reg.match,cols))\n",
    "cust_data[data_rech_cols].isnull().sum(axis=0).sort_values(ascending=False)"
   ]
  },
  {
   "cell_type": "code",
   "execution_count": null,
   "id": "4e3d38b6",
   "metadata": {},
   "outputs": [],
   "source": [
    "# As there are lot of NaNs, dropping rows is not correct method. \n",
    "#Imput NaNs with 0s and then caluclate the total recharge value for 'Good' months.\n",
    "cust_data[data_rech_cols]=cust_data[data_rech_cols].fillna(0)\n",
    "cust_data['total_data_rech_amt_6']=cust_data['av_rech_amt_data_6']*cust_data['total_rech_data_6']\n",
    "cust_data['total_data_rech_amt_7']=cust_data['av_rech_amt_data_7']*cust_data['total_rech_data_7']\n",
    "\n",
    "# Identify the high value customers. Any customers who have recharged more than or equal to 70 perctile of the grand recharge average of good months ( month 6 and 7)\n",
    "cust_data['avg_good_month_rech_amt']=(cust_data['total_rech_amt_6']+cust_data['total_rech_amt_7']+cust_data['total_data_rech_amt_6']+cust_data['total_data_rech_amt_7'])/2\n",
    "cust_data['high_value_cust']=np.where(cust_data['avg_good_month_rech_amt']>np.percentile(cust_data['avg_good_month_rech_amt'],70),'Y','N')\n",
    "print('70th percentile of the grand average of good months:  ' + str(np.percentile(cust_data['avg_good_month_rech_amt'],70))+'\\n')\n",
    "\n",
    "# Count of High Value Customers\n",
    "print('High value Customers: ',\"\\n\", cust_data.groupby(['high_value_cust'])['mobile_number'].count(),\"\\n\")\n",
    "\n",
    "# Copy  the High Value customers\n",
    "hv_cust_data=cust_data[cust_data['high_value_cust']=='Y']"
   ]
  },
  {
   "cell_type": "code",
   "execution_count": null,
   "id": "f05ffc6d",
   "metadata": {},
   "outputs": [],
   "source": [
    "# Count of churn Customers\n",
    "hv_cust_data['churn']=np.where(((hv_cust_data['total_ic_mou_9']==0) & \n",
    "                             (hv_cust_data['total_og_mou_9']==0) &\n",
    "                             (hv_cust_data['vol_2g_mb_9']==0) & \n",
    "                             (hv_cust_data['vol_3g_mb_9']==0)),1,0)\n",
    "\n",
    "\n",
    "print('Churn Customers in High Value Customers',\"\\n\", hv_cust_data[hv_cust_data['high_value_cust']=='Y'].groupby(['churn'])['mobile_number'].count())\n",
    "\n",
    "# Drop the columns related to churn month\n",
    "cols=hv_cust_data.columns\n",
    "churn_reg=re.compile(r'.*_9')\n",
    "churn_cols=list(filter(churn_reg.match,cols))\n",
    "churn_cols=churn_cols+['sep_vbc_3g']\n",
    "hv_cust_data.drop(columns=churn_cols,axis=1,inplace=True)"
   ]
  },
  {
   "cell_type": "markdown",
   "id": "305a3199",
   "metadata": {},
   "source": [
    "# Apply standard Data Cleaning techniques, Treat Outliers , Derive Features as applicable"
   ]
  },
  {
   "cell_type": "code",
   "execution_count": null,
   "id": "abea9e42",
   "metadata": {},
   "outputs": [],
   "source": [
    "# Sanity Check- Display shape, Number of NaNs in columns and datatypes\n",
    "print(hv_cust_data.shape)\n",
    "hv_cust_data.isnull().sum(axis=0).sort_values(ascending=False)\n",
    "print(hv_cust_data.dtypes)\n"
   ]
  },
  {
   "cell_type": "code",
   "execution_count": null,
   "id": "81d68fc7",
   "metadata": {},
   "outputs": [],
   "source": [
    "# Convert date time fields to datatime objects\n",
    "hv_cust_data['last_date_of_month_6'] = pd.to_datetime(hv_cust_data['last_date_of_month_6'])\n",
    "hv_cust_data['last_date_of_month_7'] = pd.to_datetime(hv_cust_data['last_date_of_month_7'])\n",
    "hv_cust_data['last_date_of_month_8'] = pd.to_datetime(hv_cust_data['last_date_of_month_8'])\n",
    "hv_cust_data['date_of_last_rech_6'] = pd.to_datetime(hv_cust_data['date_of_last_rech_6'])\n",
    "hv_cust_data['date_of_last_rech_7'] = pd.to_datetime(hv_cust_data['date_of_last_rech_7'])\n",
    "hv_cust_data['date_of_last_rech_8'] = pd.to_datetime(hv_cust_data['date_of_last_rech_8'])\n",
    "hv_cust_data['date_of_last_rech_data_6'] = pd.to_datetime(hv_cust_data['date_of_last_rech_data_6'])\n",
    "hv_cust_data['date_of_last_rech_data_7'] = pd.to_datetime(hv_cust_data['date_of_last_rech_data_7'])\n",
    "hv_cust_data['date_of_last_rech_data_8'] = pd.to_datetime(hv_cust_data['date_of_last_rech_data_8'])\n",
    "\n",
    "# Derive new features using the dates\n",
    "hv_cust_data['rech_before_lastday_6'] = (hv_cust_data['last_date_of_month_6']-hv_cust_data['date_of_last_rech_6']).apply(lambda x: x.days)\n",
    "hv_cust_data['rech_before_lastday_7'] = (hv_cust_data['last_date_of_month_7']-hv_cust_data['date_of_last_rech_7']).apply(lambda x: x.days)\n",
    "hv_cust_data['rech_before_lastday_8'] = (hv_cust_data['last_date_of_month_8']-hv_cust_data['date_of_last_rech_8']).apply(lambda x: x.days)\n",
    "\n",
    "hv_cust_data['rechdata_before_lastday_6'] = (hv_cust_data['last_date_of_month_6']-hv_cust_data['date_of_last_rech_data_6']).apply(lambda x: x.days)\n",
    "hv_cust_data['rechdata_before_lastday_7'] = (hv_cust_data['last_date_of_month_7']-hv_cust_data['date_of_last_rech_data_7']).apply(lambda x: x.days)\n",
    "hv_cust_data['rechdata_before_lastday_8'] = (hv_cust_data['last_date_of_month_8']-hv_cust_data['date_of_last_rech_data_8']).apply(lambda x: x.days)\n",
    "\n",
    "#Rename columns for easy identification\n",
    "hv_cust_data.columns=hv_cust_data.columns.str.replace('_8+','_active')\n",
    "\n",
    "# Take a copy of the dataset for EDA purpose\n",
    "hv_cust_data_copy=hv_cust_data.copy()\n",
    "\n",
    "#Do a visual check of the data set\n",
    "hv_cust_data.head()"
   ]
  },
  {
   "cell_type": "code",
   "execution_count": null,
   "id": "06a02d73",
   "metadata": {},
   "outputs": [],
   "source": [
    "# Feature: arpu\n",
    "cols=['arpu_6','arpu_7','arpu_active']\n",
    "hv_cust_data[cols].isnull().sum(axis=0).sort_values(ascending=False)"
   ]
  },
  {
   "cell_type": "code",
   "execution_count": null,
   "id": "b88874b1",
   "metadata": {},
   "outputs": [],
   "source": [
    "hv_cust_data['arpu_good']=(hv_cust_data['arpu_6']+hv_cust_data['arpu_7'])/2\n",
    "hv_cust_data[['arpu_good','arpu_active']].describe(percentiles=[0.75,.995,.998,.999,1.00])\n"
   ]
  },
  {
   "cell_type": "code",
   "execution_count": null,
   "id": "0110ac75",
   "metadata": {},
   "outputs": [],
   "source": [
    "\n",
    "hv_cust_data[hv_cust_data['arpu_active']>np.percentile(hv_cust_data['arpu_active'],99.95)][['arpu_good','arpu_active','churn']]"
   ]
  },
  {
   "cell_type": "code",
   "execution_count": null,
   "id": "e956b421",
   "metadata": {},
   "outputs": [],
   "source": [
    "hv_cust_data=hv_cust_data[~(hv_cust_data['arpu_active']>np.percentile(hv_cust_data['arpu_active'],99.95))]\n",
    "hv_cust_data.drop(columns=['arpu_6','arpu_7'],axis=1,inplace=True)"
   ]
  },
  {
   "cell_type": "code",
   "execution_count": null,
   "id": "9a008a5e",
   "metadata": {},
   "outputs": [],
   "source": [
    "# Feature : arpu_2g and arpu_3g\n",
    "hv_cust_data[['arpu_2g_6','arpu_2g_7','arpu_2g_active','arpu_3g_6','arpu_3g_7','arpu_3g_active']].isnull().sum(axis=0).sort_values(ascending=False)"
   ]
  },
  {
   "cell_type": "code",
   "execution_count": null,
   "id": "a6a6f291",
   "metadata": {},
   "outputs": [],
   "source": [
    "hv_cust_data[['arpu_2g_6','arpu_2g_7','arpu_2g_active',]].describe(percentiles=[0.75,.995,.998,.999,1.00])\n"
   ]
  },
  {
   "cell_type": "code",
   "execution_count": null,
   "id": "62375303",
   "metadata": {},
   "outputs": [],
   "source": [
    "hv_cust_data.drop(columns=['arpu_2g_6','arpu_2g_7','arpu_2g_active','arpu_3g_6','arpu_3g_7','arpu_3g_active'],axis=1,inplace=True)"
   ]
  },
  {
   "cell_type": "code",
   "execution_count": null,
   "id": "1fcab362",
   "metadata": {},
   "outputs": [],
   "source": [
    "# Feature: aon\n",
    "print(hv_cust_data[['aon']].isnull().sum(axis=0).sort_values(ascending=False))\n",
    "print(hv_cust_data[['aon']].describe(percentiles=[0.75,.995,.998,.999,1.00]))"
   ]
  },
  {
   "cell_type": "code",
   "execution_count": null,
   "id": "eea456dd",
   "metadata": {},
   "outputs": [],
   "source": [
    "# Feature : vbc\n",
    "print(hv_cust_data[['aug_vbc_3g','jun_vbc_3g','jul_vbc_3g']].isnull().sum(axis=0).sort_values(ascending=False))\n",
    "print(hv_cust_data[['aug_vbc_3g','jun_vbc_3g','jul_vbc_3g']].describe(percentiles=[0.75,.995,.998,.999,1.00]))"
   ]
  },
  {
   "cell_type": "code",
   "execution_count": null,
   "id": "44b34f56",
   "metadata": {},
   "outputs": [],
   "source": [
    "hv_cust_data['vbc_3g_good']=(hv_cust_data['jun_vbc_3g']+hv_cust_data['jul_vbc_3g'])/2\n",
    "hv_cust_data['vbc_3g_active']=hv_cust_data['aug_vbc_3g']\n",
    "print(hv_cust_data[['vbc_3g_good','vbc_3g_active']].describe(percentiles=[0.75,.995,.998,.999,1.00]))"
   ]
  },
  {
   "cell_type": "code",
   "execution_count": null,
   "id": "7e11bf57",
   "metadata": {},
   "outputs": [],
   "source": [
    "hv_cust_data[hv_cust_data['vbc_3g_active']>np.percentile(hv_cust_data['vbc_3g_active'],99.97)][['vbc_3g_active','vbc_3g_good','churn']]"
   ]
  },
  {
   "cell_type": "code",
   "execution_count": null,
   "id": "e4832937",
   "metadata": {},
   "outputs": [],
   "source": [
    "hv_cust_data=hv_cust_data[~(hv_cust_data['vbc_3g_active']>np.percentile(hv_cust_data['vbc_3g_active'],99.97))]\n",
    "hv_cust_data.drop(columns=['jun_vbc_3g','jul_vbc_3g','aug_vbc_3g'],axis=1,inplace=True)"
   ]
  },
  {
   "cell_type": "code",
   "execution_count": null,
   "id": "7f08e232",
   "metadata": {},
   "outputs": [],
   "source": [
    "# count_reach_2g and 3g\n",
    "cols=list(hv_cust_data.filter(regex='count_rech_').columns)\n",
    "print(hv_cust_data[cols].isnull().sum(axis=0).sort_values(ascending=False))"
   ]
  },
  {
   "cell_type": "code",
   "execution_count": null,
   "id": "b8762ee0",
   "metadata": {},
   "outputs": [],
   "source": [
    "for i in cols:\n",
    "    hv_cust_data[i]=hv_cust_data[i].fillna(0)"
   ]
  },
  {
   "cell_type": "code",
   "execution_count": null,
   "id": "b4eb0edf",
   "metadata": {},
   "outputs": [],
   "source": [
    "hv_cust_data['count_rech_2g_good']=(hv_cust_data['count_rech_2g_6']+hv_cust_data['count_rech_2g_7'])/2\n",
    "hv_cust_data['count_rech_3g_good']=(hv_cust_data['count_rech_3g_6']+hv_cust_data['count_rech_3g_7'])/2\n",
    "print(hv_cust_data[['count_rech_2g_good','count_rech_2g_active']].describe(percentiles=[0.75,.995,.998,.999,1.00]))\n",
    "print(hv_cust_data[['count_rech_3g_good','count_rech_3g_active']].describe(percentiles=[0.75,.995,.998,.999,1.00]))\n"
   ]
  },
  {
   "cell_type": "code",
   "execution_count": null,
   "id": "2f8b9538",
   "metadata": {},
   "outputs": [],
   "source": [
    "hv_cust_data[hv_cust_data['count_rech_2g_active']>np.percentile(hv_cust_data['count_rech_2g_active'],99.95)][['count_rech_2g_good','count_rech_2g_active','churn']]"
   ]
  },
  {
   "cell_type": "code",
   "execution_count": null,
   "id": "8325daef",
   "metadata": {},
   "outputs": [],
   "source": [
    "hv_cust_data=hv_cust_data[~(hv_cust_data['count_rech_2g_active']>np.percentile(hv_cust_data['count_rech_2g_active'],99.95))]\n",
    "print(hv_cust_data[['count_rech_3g_good','count_rech_3g_active']].describe(percentiles=[0.75,.995,.998,.999,1.00]))\n",
    "hv_cust_data[hv_cust_data['count_rech_3g_active']>np.percentile(hv_cust_data['count_rech_3g_active'],99.95)][['count_rech_3g_good','count_rech_3g_active','churn']]"
   ]
  },
  {
   "cell_type": "code",
   "execution_count": null,
   "id": "61919ef6",
   "metadata": {},
   "outputs": [],
   "source": [
    "hv_cust_data=hv_cust_data[~(hv_cust_data['count_rech_3g_active']>np.percentile(hv_cust_data['count_rech_3g_active'],99.95))]\n",
    "hv_cust_data.drop(columns=['count_rech_2g_6','count_rech_2g_7','count_rech_3g_6','count_rech_3g_7'],axis=1,inplace=True)"
   ]
  },
  {
   "cell_type": "code",
   "execution_count": null,
   "id": "b09f091d",
   "metadata": {},
   "outputs": [],
   "source": [
    "#fb_users\n",
    "cols=list(hv_cust_data.filter(regex='fb_user').columns)\n",
    "print(hv_cust_data[cols].isnull().sum(axis=0).sort_values(ascending=False))\n",
    "print(hv_cust_data[cols].describe(percentiles=[0.75,.995,.998,.999,1.00]))"
   ]
  },
  {
   "cell_type": "code",
   "execution_count": null,
   "id": "9f4edc4a",
   "metadata": {},
   "outputs": [],
   "source": [
    "# Ignore fb_user_6 and impute NaNs of fb_user_7 and fb_user_active as 2. Then use one hot encoding for fb_user_7 and fb_user active\n",
    "hv_cust_data['fb_user_7']=hv_cust_data['fb_user_7'].fillna(2)\n",
    "hv_cust_data['fb_user_active']=hv_cust_data['fb_user_active'].fillna(2)\n",
    "fb_status_good = pd.get_dummies(hv_cust_data['fb_user_7'], drop_first = True)\n",
    "fb_status_good.rename({1.0: 'fb_user_good', 2.0: 'fb_not_known_good'}, axis='columns',inplace=True)\n",
    "fb_status_active = pd.get_dummies(hv_cust_data['fb_user_active'], drop_first = True)\n",
    "fb_status_active.rename({1.0: 'fb_user_active', 2.0: 'fb_not_known_active'}, axis='columns',inplace=True)\n",
    "hv_cust_data = pd.concat([hv_cust_data,fb_status_active,fb_status_good], axis = 1)"
   ]
  },
  {
   "cell_type": "code",
   "execution_count": null,
   "id": "1249efad",
   "metadata": {},
   "outputs": [],
   "source": [
    "hv_cust_data.drop(columns=cols,axis=1,inplace=True)"
   ]
  },
  {
   "cell_type": "code",
   "execution_count": null,
   "id": "5cad1bb9",
   "metadata": {},
   "outputs": [],
   "source": [
    "cols=list(hv_cust_data.filter(regex='vol_').columns)\n",
    "print(hv_cust_data[cols].isnull().sum(axis=0).sort_values(ascending=False))\n",
    "print(hv_cust_data[cols].describe(percentiles=[0.75,.995,.998,.999,1.00]))"
   ]
  },
  {
   "cell_type": "code",
   "execution_count": null,
   "id": "6b8c3cfb",
   "metadata": {},
   "outputs": [],
   "source": [
    "hv_cust_data['vol_2g_mb_good']=(hv_cust_data['vol_2g_mb_6']+hv_cust_data['vol_2g_mb_7'])/2\n",
    "hv_cust_data['vol_3g_mb_good']=(hv_cust_data['vol_3g_mb_6']+hv_cust_data['vol_3g_mb_7'])/2\n",
    "print(hv_cust_data[['vol_2g_mb_good','vol_2g_mb_active']].describe(percentiles=[0.75,.995,.998,.999,1.00]))"
   ]
  },
  {
   "cell_type": "code",
   "execution_count": null,
   "id": "bd8c4393",
   "metadata": {},
   "outputs": [],
   "source": [
    "hv_cust_data[hv_cust_data['vol_2g_mb_active']>np.percentile(hv_cust_data['vol_2g_mb_active'],99.95)][['vol_2g_mb_active','vol_2g_mb_good','churn']]"
   ]
  },
  {
   "cell_type": "code",
   "execution_count": null,
   "id": "70d042ca",
   "metadata": {},
   "outputs": [],
   "source": [
    "hv_cust_data=hv_cust_data[~(hv_cust_data['vol_2g_mb_active']>np.percentile(hv_cust_data['vol_2g_mb_active'],99.95))]\n",
    "print(hv_cust_data[['vol_3g_mb_good','vol_3g_mb_active']].describe(percentiles=[0.75,.995,.998,.999,1.00]))"
   ]
  },
  {
   "cell_type": "code",
   "execution_count": null,
   "id": "d619274f",
   "metadata": {},
   "outputs": [],
   "source": [
    "hv_cust_data[hv_cust_data['vol_3g_mb_active']>np.percentile(hv_cust_data['vol_3g_mb_active'],99.98)][['vol_3g_mb_active','vol_3g_mb_good','churn']]"
   ]
  },
  {
   "cell_type": "code",
   "execution_count": null,
   "id": "77a684cd",
   "metadata": {},
   "outputs": [],
   "source": [
    "hv_cust_data=hv_cust_data[~(hv_cust_data['vol_3g_mb_active']>np.percentile(hv_cust_data['vol_3g_mb_active'],99.98))]\n",
    "hv_cust_data.drop(columns=['vol_2g_mb_6','vol_2g_mb_7','vol_3g_mb_6','vol_3g_mb_7'],axis=1,inplace=True)\n",
    "\n",
    "# Feature: monthly 2g and 3g\n",
    "cols=list(hv_cust_data.filter(regex='monthly_').columns)\n",
    "print(hv_cust_data[cols].isnull().sum(axis=0).sort_values(ascending=False))"
   ]
  },
  {
   "cell_type": "code",
   "execution_count": null,
   "id": "3cab9532",
   "metadata": {},
   "outputs": [],
   "source": [
    "hv_cust_data['monthly_2g_good']=(hv_cust_data['monthly_2g_6']+hv_cust_data['monthly_2g_7'])/2\n",
    "hv_cust_data['monthly_3g_good']=(hv_cust_data['monthly_3g_6']+hv_cust_data['monthly_3g_7'])/2\n",
    "hv_cust_data[['monthly_3g_good','monthly_3g_active']].describe(percentiles=[0.75,.995,.998,.999,1.00])"
   ]
  },
  {
   "cell_type": "code",
   "execution_count": null,
   "id": "dd46d227",
   "metadata": {},
   "outputs": [],
   "source": [
    "hv_cust_data[hv_cust_data['monthly_3g_good']>np.percentile(hv_cust_data['monthly_3g_good'],99.96)][['monthly_3g_good','monthly_3g_active','churn']]\n"
   ]
  },
  {
   "cell_type": "code",
   "execution_count": null,
   "id": "3cab7cb2",
   "metadata": {},
   "outputs": [],
   "source": [
    "hv_cust_data=hv_cust_data[~(hv_cust_data['monthly_3g_good']>np.percentile(hv_cust_data['monthly_3g_good'],99.96))]\n",
    "hv_cust_data.drop(columns=['monthly_2g_6','monthly_2g_7','monthly_3g_6','monthly_3g_7'],axis=1,inplace=True)"
   ]
  },
  {
   "cell_type": "code",
   "execution_count": null,
   "id": "418d939d",
   "metadata": {},
   "outputs": [],
   "source": [
    "# Feature: Local incoming calls\n",
    "cols=list(hv_cust_data.filter(regex='loc_ic').columns)\n",
    "print(hv_cust_data[cols].isnull().sum(axis=0).sort_values(ascending=False))"
   ]
  },
  {
   "cell_type": "code",
   "execution_count": null,
   "id": "7f95b3a0",
   "metadata": {},
   "outputs": [],
   "source": [
    "hv_cust_data['loc_ic_mou_good']=(hv_cust_data['loc_ic_mou_6']+hv_cust_data['loc_ic_mou_7'])/2\n",
    "hv_cust_data['loc_ic_mou_good'].isnull().sum(axis=0)"
   ]
  },
  {
   "cell_type": "code",
   "execution_count": null,
   "id": "ae9bb36e",
   "metadata": {},
   "outputs": [],
   "source": [
    "print(hv_cust_data[~(hv_cust_data['loc_ic_mou_good'].isnull())].groupby(['churn'])['mobile_number'].count())\n",
    "print(hv_cust_data[hv_cust_data['loc_ic_mou_good'].isnull()].groupby(['churn'])['mobile_number'].count())"
   ]
  },
  {
   "cell_type": "code",
   "execution_count": null,
   "id": "2185254a",
   "metadata": {},
   "outputs": [],
   "source": [
    "hv_cust_data['loc_ic_null_good']=np.where((hv_cust_data['loc_ic_mou_good'].isnull()),1,0) \n",
    "hv_cust_data['loc_ic_null_active']=np.where((hv_cust_data['loc_ic_mou_active'].isnull()),1,0) \n",
    "print('Good Month Comparision \\n')\n",
    "print(hv_cust_data[hv_cust_data['loc_ic_mou_good'].isnull()].groupby(['churn'])['mobile_number'].count())\n",
    "print(hv_cust_data[hv_cust_data['loc_ic_mou_good']==0].groupby(['churn'])['mobile_number'].count())\n",
    "print('Active Month Comparision \\n')\n",
    "print(hv_cust_data[hv_cust_data['loc_ic_mou_active'].isnull()].groupby(['churn'])['mobile_number'].count())\n",
    "print(hv_cust_data[hv_cust_data['loc_ic_mou_active']==0].groupby(['churn'])['mobile_number'].count())"
   ]
  },
  {
   "cell_type": "code",
   "execution_count": null,
   "id": "800cebab",
   "metadata": {},
   "outputs": [],
   "source": [
    "hv_cust_data['loc_ic_mou_active']=hv_cust_data[['loc_ic_mou_active']].fillna(0)\n",
    "hv_cust_data['loc_ic_mou_good']=hv_cust_data[['loc_ic_mou_good']].fillna(0)\n",
    "print(hv_cust_data[['loc_ic_mou_active','loc_ic_mou_good']].describe(percentiles=[0.75,.995,.998,.999,1.00]))"
   ]
  },
  {
   "cell_type": "code",
   "execution_count": null,
   "id": "a2a80f40",
   "metadata": {},
   "outputs": [],
   "source": [
    "hv_cust_data.drop(columns=['loc_ic_mou_6','loc_ic_mou_7','loc_ic_t2f_mou_6','loc_ic_t2f_mou_7','loc_ic_t2f_mou_active',\n",
    "                          'loc_ic_t2m_mou_6','loc_ic_t2m_mou_7','loc_ic_t2m_mou_active','loc_ic_t2t_mou_6',\n",
    "                          'loc_ic_t2t_mou_7','loc_ic_t2t_mou_active'],axis=1,inplace=True)"
   ]
  },
  {
   "cell_type": "code",
   "execution_count": null,
   "id": "81346971",
   "metadata": {},
   "outputs": [],
   "source": [
    "# Feature: local outgoing calls\n",
    "cols=list(hv_cust_data.filter(regex='loc_og').columns)\n",
    "print(hv_cust_data[cols].isnull().sum(axis=0).sort_values(ascending=False))\n"
   ]
  },
  {
   "cell_type": "code",
   "execution_count": null,
   "id": "fee7cb1b",
   "metadata": {},
   "outputs": [],
   "source": [
    "hv_cust_data['loc_og_mou_6']=hv_cust_data['loc_og_t2f_mou_6']+hv_cust_data['loc_og_t2m_mou_6']+hv_cust_data['loc_og_t2t_mou_6']+hv_cust_data['loc_og_t2c_mou_6']\n",
    "hv_cust_data['loc_og_mou_7']=hv_cust_data['loc_og_t2f_mou_7']+hv_cust_data['loc_og_t2m_mou_7']+hv_cust_data['loc_og_t2t_mou_7']+hv_cust_data['loc_og_t2c_mou_7']\n",
    "hv_cust_data['loc_og_mou_active']=hv_cust_data['loc_og_t2f_mou_active']+hv_cust_data['loc_og_t2m_mou_active']+hv_cust_data['loc_og_t2t_mou_active']+hv_cust_data['loc_og_t2c_mou_active']\n",
    "hv_cust_data['loc_og_mou_good']=(hv_cust_data['loc_og_mou_6']+hv_cust_data['loc_og_mou_7'])/2"
   ]
  },
  {
   "cell_type": "code",
   "execution_count": null,
   "id": "7cffea7f",
   "metadata": {},
   "outputs": [],
   "source": [
    "hv_cust_data[cols].head()\n"
   ]
  },
  {
   "cell_type": "code",
   "execution_count": null,
   "id": "629f280e",
   "metadata": {},
   "outputs": [],
   "source": [
    "print(hv_cust_data[~(hv_cust_data['loc_og_mou_good'].isnull())].groupby(['churn'])['mobile_number'].count())\n",
    "print(hv_cust_data[hv_cust_data['loc_og_mou_good'].isnull()].groupby(['churn'])['mobile_number'].count())\n"
   ]
  },
  {
   "cell_type": "code",
   "execution_count": null,
   "id": "b48d6ff4",
   "metadata": {},
   "outputs": [],
   "source": [
    "hv_cust_data['loc_og_null_good']=np.where((hv_cust_data['loc_og_mou_good'].isnull()),1,0) \n",
    "hv_cust_data['loc_og_null_active']=np.where((hv_cust_data['loc_og_mou_active'].isnull()),1,0) \n",
    "print('Good Month Comparision \\n')\n",
    "print(hv_cust_data[hv_cust_data['loc_og_mou_good'].isnull()].groupby(['churn'])['mobile_number'].count())\n",
    "print(hv_cust_data[hv_cust_data['loc_og_mou_good']==0].groupby(['churn'])['mobile_number'].count())\n",
    "print('Active Month Comparision \\n')\n",
    "print(hv_cust_data[hv_cust_data['loc_og_mou_active'].isnull()].groupby(['churn'])['mobile_number'].count())\n",
    "print(hv_cust_data[hv_cust_data['loc_og_mou_active']==0].groupby(['churn'])['mobile_number'].count())"
   ]
  },
  {
   "cell_type": "code",
   "execution_count": null,
   "id": "58428508",
   "metadata": {},
   "outputs": [],
   "source": [
    "hv_cust_data['loc_og_mou_active']=hv_cust_data[['loc_og_mou_active']].fillna(0)\n",
    "hv_cust_data['loc_og_mou_good']=hv_cust_data[['loc_og_mou_good']].fillna(0)\n",
    "\n",
    "print(hv_cust_data[['loc_og_mou_active','loc_og_mou_good']].describe(percentiles=[0.75,.995,.998,.999,1.00]))"
   ]
  },
  {
   "cell_type": "code",
   "execution_count": null,
   "id": "ce45f072",
   "metadata": {},
   "outputs": [],
   "source": [
    "hv_custdata = hv_cust_data"
   ]
  },
  {
   "cell_type": "code",
   "execution_count": null,
   "id": "1b74e628",
   "metadata": {},
   "outputs": [],
   "source": [
    "hv_custdata[hv_custdata['loc_og_mou_active']>np.percentile(hv_custdata['loc_og_mou_active'],99.95)][['loc_og_mou_active','loc_og_mou_good','churn']]"
   ]
  },
  {
   "cell_type": "code",
   "execution_count": null,
   "id": "dfcc3271",
   "metadata": {},
   "outputs": [],
   "source": [
    "hv_custdata=hv_custdata[~(hv_custdata['loc_og_mou_active']>np.percentile(hv_custdata['loc_og_mou_active'],99.95))]"
   ]
  },
  {
   "cell_type": "code",
   "execution_count": null,
   "id": "3de431cf",
   "metadata": {},
   "outputs": [],
   "source": [
    "hv_custdata.drop(columns=['loc_og_mou_6','loc_og_t2f_mou_6','loc_og_t2m_mou_6','loc_og_t2t_mou_6','loc_og_t2c_mou_6','loc_og_mou_7','loc_og_t2f_mou_7','loc_og_t2m_mou_7','loc_og_t2t_mou_7','loc_og_t2c_mou_7',\n",
    "                          'loc_og_t2f_mou_active','loc_og_t2m_mou_active','loc_og_t2t_mou_active','loc_og_t2c_mou_active'],axis=1,inplace=True)"
   ]
  },
  {
   "cell_type": "code",
   "execution_count": null,
   "id": "c33ba892",
   "metadata": {},
   "outputs": [],
   "source": [
    "# Feature: max_rech_data and max_rech_amt\n",
    "cols=list(hv_custdata.filter(regex='max_rech').columns)\n",
    "print(hv_custdata[cols].isnull().sum(axis=0).sort_values(ascending=False))"
   ]
  },
  {
   "cell_type": "code",
   "execution_count": null,
   "id": "985f7122",
   "metadata": {},
   "outputs": [],
   "source": [
    "hv_custdata['max_rech_amt_good']=(hv_custdata['max_rech_amt_6']+hv_custdata['max_rech_amt_7'])/2\n",
    "hv_custdata[['max_rech_amt_good','max_rech_amt_active']].describe(percentiles=[0.75,.995,.998,.999,1.00])"
   ]
  },
  {
   "cell_type": "code",
   "execution_count": null,
   "id": "68d0b19d",
   "metadata": {},
   "outputs": [],
   "source": [
    "hv_custdata[hv_custdata['max_rech_amt_active']>np.percentile(hv_custdata['max_rech_amt_active'],99.97)][['max_rech_amt_good','max_rech_amt_active','churn']]"
   ]
  },
  {
   "cell_type": "code",
   "execution_count": null,
   "id": "4fa48fe5",
   "metadata": {},
   "outputs": [],
   "source": [
    "hv_custdata=hv_custdata[~(hv_custdata['max_rech_amt_active']>np.percentile(hv_custdata['max_rech_amt_active'],99.97))]\n",
    "hv_custdata['max_rech_data_good']=(hv_custdata['max_rech_data_6']+hv_custdata['max_rech_data_7'])/2\n",
    "print('Good Month Distribution \\n ')\n",
    "print(hv_custdata[hv_custdata['max_rech_data_good'].isnull()].groupby(['churn'])['mobile_number'].count())\n",
    "print('\\nActive Month Distribution \\n ')\n",
    "print(hv_custdata[hv_custdata['max_rech_data_active'].isnull()].groupby(['churn'])['mobile_number'].count())\n",
    "hv_custdata[hv_custdata['max_rech_data_active']==0].head()"
   ]
  },
  {
   "cell_type": "code",
   "execution_count": null,
   "id": "235dca42",
   "metadata": {},
   "outputs": [],
   "source": [
    "hv_custdata['max_rech_data_null_good']=np.where((hv_custdata['max_rech_data_good'].isnull()),1,0) \n",
    "hv_custdata['max_rech_data_null_active']=np.where((hv_custdata['max_rech_data_active'].isnull()),1,0) \n",
    "hv_custdata['max_rech_data_good']=hv_custdata['max_rech_data_good'].fillna(0)\n",
    "hv_custdata['max_rech_data_active']=hv_custdata['max_rech_data_active'].fillna(0)\n",
    "hv_custdata.drop(columns=['max_rech_data_6','max_rech_data_7','max_rech_amt_6','max_rech_amt_7'],axis=1,inplace=True)"
   ]
  },
  {
   "cell_type": "code",
   "execution_count": null,
   "id": "a60c05da",
   "metadata": {},
   "outputs": [],
   "source": [
    "# Feature nich pack user\n",
    "cols=list(hv_custdata.filter(regex='night_pck').columns)\n",
    "print(hv_custdata[cols].isnull().sum(axis=0).sort_values(ascending=False))"
   ]
  },
  {
   "cell_type": "code",
   "execution_count": null,
   "id": "46025ad4",
   "metadata": {},
   "outputs": [],
   "source": [
    "hv_custdata['night_pck_user_good']=(hv_custdata['night_pck_user_6']+hv_custdata['night_pck_user_7'])/2\n",
    "hv_custdata['night_pck_user_null_good']=np.where((hv_custdata['night_pck_user_good'].isnull()),1,0) \n",
    "hv_custdata['night_pck_user_null_active']=np.where((hv_custdata['night_pck_user_active'].isnull()),1,0) \n",
    "\n",
    "print('Good Month Distribution \\n ')\n",
    "print(hv_custdata[hv_custdata['night_pck_user_good'].isnull()].groupby(['churn'])['mobile_number'].count())\n",
    "print('\\nActive Month Distribution \\n ')\n",
    "print(hv_custdata[hv_custdata['night_pck_user_active'].isnull()].groupby(['churn'])['mobile_number'].count())"
   ]
  },
  {
   "cell_type": "code",
   "execution_count": null,
   "id": "e35ae1f9",
   "metadata": {},
   "outputs": [],
   "source": [
    "hv_custdata['night_pck_user_good']=hv_custdata['night_pck_user_good'].fillna(0)\n",
    "hv_custdata['night_pck_user_active']=hv_custdata['night_pck_user_active'].fillna(0)\n",
    "hv_custdata[['night_pck_user_good','night_pck_user_active']].describe(percentiles=[0.75,.995,.998,.999,1.00])"
   ]
  },
  {
   "cell_type": "code",
   "execution_count": null,
   "id": "73cbbda7",
   "metadata": {},
   "outputs": [],
   "source": [
    "hv_custdata.drop(columns=['night_pck_user_6','night_pck_user_7'],axis=1,inplace=True)"
   ]
  },
  {
   "cell_type": "code",
   "execution_count": null,
   "id": "a6018088",
   "metadata": {},
   "outputs": [],
   "source": [
    "# Feature : offnet and onnet users\n",
    "cols=list(hv_custdata.filter(regex='.net_mou').columns)\n",
    "print(hv_custdata[cols].isnull().sum(axis=0).sort_values(ascending=False))"
   ]
  },
  {
   "cell_type": "code",
   "execution_count": null,
   "id": "badd5447",
   "metadata": {},
   "outputs": [],
   "source": [
    "hv_custdata['onnet_mou_good']=(hv_custdata['onnet_mou_6']+hv_custdata['onnet_mou_7'])/2\n",
    "hv_custdata['offnet_mou_good']=(hv_custdata['offnet_mou_6']+hv_custdata['offnet_mou_7'])/2\n",
    "\n",
    "hv_custdata['onnet_mou_null_good']=np.where((hv_custdata['onnet_mou_good'].isnull()),1,0) \n",
    "hv_custdata['onnet_mou_null_active']=np.where((hv_custdata['onnet_mou_active'].isnull()),1,0) \n",
    "\n",
    "hv_custdata['offnet_mou_null_good']=np.where((hv_custdata['offnet_mou_good'].isnull()),1,0) \n",
    "hv_custdata['offnet_mou_null_active']=np.where((hv_custdata['offnet_mou_active'].isnull()),1,0) \n",
    "\n",
    "print('Onnet Good Month Distribution \\n ')\n",
    "print(hv_custdata[hv_custdata['onnet_mou_good'].isnull()].groupby(['churn'])['mobile_number'].count())\n",
    "print('\\n Onnet Active Month Distribution \\n ')\n",
    "print(hv_custdata[hv_custdata['onnet_mou_active'].isnull()].groupby(['churn'])['mobile_number'].count())\n",
    "\n",
    "print('Offnet Good Month Distribution \\n ')\n",
    "print(hv_custdata[hv_custdata['offnet_mou_good'].isnull()].groupby(['churn'])['mobile_number'].count())\n",
    "print('\\n Offent Active Month Distribution \\n ')\n",
    "print(hv_custdata[hv_custdata['offnet_mou_active'].isnull()].groupby(['churn'])['mobile_number'].count())"
   ]
  },
  {
   "cell_type": "code",
   "execution_count": null,
   "id": "a636b4bd",
   "metadata": {},
   "outputs": [],
   "source": [
    "hv_custdata['onnet_mou_good']=hv_custdata['onnet_mou_good'].fillna(0)\n",
    "hv_custdata['onnet_mou_active']=hv_custdata['onnet_mou_active'].fillna(0)\n",
    "hv_custdata['offnet_mou_good']=hv_custdata['offnet_mou_good'].fillna(0)\n",
    "hv_custdata['offnet_mou_active']=hv_custdata['offnet_mou_active'].fillna(0)\n",
    "\n",
    "print(hv_custdata[['onnet_mou_good','onnet_mou_active']].describe(percentiles=[0.75,.995,.998,.999,1.00]))\n",
    "print(hv_custdata[['offnet_mou_good','offnet_mou_active']].describe(percentiles=[0.75,.995,.998,.999,1.00]))"
   ]
  },
  {
   "cell_type": "code",
   "execution_count": null,
   "id": "d0bd7a90",
   "metadata": {},
   "outputs": [],
   "source": [
    "print(hv_custdata[hv_custdata['onnet_mou_active']>np.percentile(hv_custdata['onnet_mou_active'],99.95)][['onnet_mou_good','onnet_mou_active','churn']])\n",
    "print(hv_custdata[hv_custdata['offnet_mou_active']>np.percentile(hv_custdata['offnet_mou_active'],99.95)][['offnet_mou_good','offnet_mou_active','churn']])"
   ]
  },
  {
   "cell_type": "code",
   "execution_count": null,
   "id": "cac83e75",
   "metadata": {},
   "outputs": [],
   "source": [
    "hv_custdata=hv_custdata[~(hv_custdata['onnet_mou_active']>np.percentile(hv_custdata['onnet_mou_active'],99.95))]\n",
    "hv_custdata=hv_custdata[~(hv_custdata['offnet_mou_active']>np.percentile(hv_custdata['offnet_mou_active'],99.95))]\n",
    "hv_custdata.drop(columns=['offnet_mou_6','offnet_mou_7','onnet_mou_6','onnet_mou_7'],axis=1,inplace=True)"
   ]
  },
  {
   "cell_type": "code",
   "execution_count": null,
   "id": "0fa0ab91",
   "metadata": {},
   "outputs": [],
   "source": [
    "# Feature : sanchet 2g and 3g\n",
    "cols=list(hv_custdata.filter(regex='sachet_').columns)\n",
    "print(hv_custdata[cols].isnull().sum(axis=0).sort_values(ascending=False))"
   ]
  },
  {
   "cell_type": "code",
   "execution_count": null,
   "id": "afc896a1",
   "metadata": {},
   "outputs": [],
   "source": [
    "hv_custdata['sachet_2g_good']=(hv_custdata['sachet_2g_6']+hv_custdata['sachet_2g_7'])/2\n",
    "hv_custdata['sachet_3g_good']=(hv_custdata['sachet_3g_6']+hv_custdata['sachet_3g_7'])/2\n",
    "hv_custdata[['sachet_2g_good','sachet_3g_good','sachet_2g_active','sachet_2g_active']].describe(percentiles=[0.75,.995,.998,.999,1.00])"
   ]
  },
  {
   "cell_type": "code",
   "execution_count": null,
   "id": "3dbeec37",
   "metadata": {},
   "outputs": [],
   "source": [
    "hv_custdata[hv_custdata['sachet_2g_good']>np.percentile(hv_custdata['sachet_2g_good'],99.99)][['sachet_2g_good','sachet_3g_good','sachet_2g_active','sachet_3g_active','churn']]"
   ]
  },
  {
   "cell_type": "code",
   "execution_count": null,
   "id": "ef93ad1e",
   "metadata": {},
   "outputs": [],
   "source": [
    "\n",
    "hv_custdata.drop(columns=['sachet_2g_6','sachet_2g_7','sachet_3g_6','sachet_3g_7'],axis=1,inplace=True)"
   ]
  },
  {
   "cell_type": "code",
   "execution_count": null,
   "id": "4b139781",
   "metadata": {},
   "outputs": [],
   "source": [
    "# Feature: std incoming calls\n",
    "cols=list(hv_custdata.filter(regex='std_ic').columns)\n",
    "hv_custdata[cols].head()"
   ]
  },
  {
   "cell_type": "code",
   "execution_count": null,
   "id": "83479018",
   "metadata": {},
   "outputs": [],
   "source": [
    "# It is evident that the column std_ic_mou_% is aggregated column of other variables\n",
    "hv_custdata['std_ic_mou_6']=hv_custdata['std_ic_t2f_mou_6']+hv_custdata['std_ic_t2m_mou_6']+hv_custdata['std_ic_t2t_mou_6']\n",
    "hv_custdata['std_ic_mou_7']=hv_custdata['std_ic_t2f_mou_6']+hv_custdata['std_ic_t2m_mou_6']+hv_custdata['std_ic_t2t_mou_6']\n",
    "hv_custdata['std_ic_mou_active']=hv_custdata['std_ic_t2f_mou_active']+hv_custdata['std_ic_t2m_mou_active']+hv_custdata['std_ic_t2t_mou_active']\n",
    "hv_custdata['std_ic_mou_good']=(hv_custdata['std_ic_mou_6']+hv_custdata['std_ic_mou_7'])/2\n",
    "\n",
    "hv_custdata['std_ic_mou__null_good']=np.where((hv_custdata['std_ic_mou_good'].isnull()),1,0) \n",
    "hv_custdata['std_ic_mou_null_active']=np.where((hv_custdata['std_ic_mou_active'].isnull()),1,0) \n",
    "\n",
    "print('STD IC NaN Good Month Distribution \\n ')\n",
    "print(hv_custdata[hv_custdata['std_ic_mou_good'].isnull()].groupby(['churn'])['mobile_number'].count())\n",
    "print('\\n STD IC NaN Active Month Distribution \\n ')\n",
    "print(hv_custdata[hv_custdata['std_ic_mou_active'].isnull()].groupby(['churn'])['mobile_number'].count())\n",
    "\n",
    "print('STD IC 0 Good Month Distribution \\n ')\n",
    "print(hv_custdata[hv_custdata['std_ic_mou_good']==0].groupby(['churn'])['mobile_number'].count())\n",
    "print('\\n STD IC 0 Active Month Distribution \\n ')\n",
    "print(hv_custdata[hv_custdata['std_ic_mou_active']==0].groupby(['churn'])['mobile_number'].count())"
   ]
  },
  {
   "cell_type": "code",
   "execution_count": null,
   "id": "d3f702d5",
   "metadata": {},
   "outputs": [],
   "source": [
    "hv_custdata['std_ic_mou_good']=hv_custdata['std_ic_mou_good'].fillna(0)\n",
    "hv_custdata['std_ic_mou_active']=hv_custdata['std_ic_mou_active'].fillna(0)\n",
    "hv_custdata[['std_ic_mou_good','std_ic_mou_active']].describe(percentiles=[0.75,.995,.998,.999,1.00])"
   ]
  },
  {
   "cell_type": "code",
   "execution_count": null,
   "id": "bd4db428",
   "metadata": {},
   "outputs": [],
   "source": [
    "hv_custdata[hv_custdata['std_ic_mou_active']>np.percentile(hv_custdata['std_ic_mou_active'],99.95)][['std_ic_mou_active','std_ic_mou_good','churn']]"
   ]
  },
  {
   "cell_type": "code",
   "execution_count": null,
   "id": "37727e6c",
   "metadata": {},
   "outputs": [],
   "source": [
    "hv_custdata=hv_custdata[~(hv_custdata['std_ic_mou_active']>np.percentile(hv_custdata['std_ic_mou_active'],99.95))]\n",
    "hv_custdata.drop(columns=['std_ic_mou_6','std_ic_mou_7','std_ic_t2f_mou_6','std_ic_t2f_mou_7','std_ic_t2f_mou_active','std_ic_t2m_mou_6',\n",
    "                 'std_ic_t2m_mou_7','std_ic_t2m_mou_active','std_ic_t2t_mou_6','std_ic_t2t_mou_7','std_ic_t2t_mou_active'],axis=1,inplace=True)"
   ]
  },
  {
   "cell_type": "code",
   "execution_count": null,
   "id": "52fb6e1d",
   "metadata": {},
   "outputs": [],
   "source": [
    "cols=list(hv_custdata.filter(regex='roam_ic').columns)\n",
    "print(hv_custdata[cols].isnull().sum(axis=0).sort_values(ascending=False))"
   ]
  },
  {
   "cell_type": "code",
   "execution_count": null,
   "id": "25a6e641",
   "metadata": {},
   "outputs": [],
   "source": [
    "hv_custdata['roam_ic_mou_good']=(hv_custdata['roam_ic_mou_6']+hv_custdata['roam_ic_mou_7'])/2\n",
    "\n",
    "hv_custdata['roam_ic_mou_null_good']=np.where((hv_custdata['roam_ic_mou_good'].isnull()),1,0) \n",
    "hv_custdata['roam_ic_mou_null_active']=np.where((hv_custdata['roam_ic_mou_active'].isnull()),1,0) \n",
    "\n",
    "print('Roam IC NaN Good Month Distribution \\n ')\n",
    "print(hv_custdata[hv_custdata['roam_ic_mou_good'].isnull()].groupby(['churn'])['mobile_number'].count())\n",
    "print('\\n Roam IC NaN Active Month Distribution \\n ')\n",
    "print(hv_custdata[hv_custdata['roam_ic_mou_active'].isnull()].groupby(['churn'])['mobile_number'].count())\n",
    "\n",
    "print('Roam IC 0 Good Month Distribution \\n ')\n",
    "print(hv_custdata[hv_custdata['roam_ic_mou_good']==0].groupby(['churn'])['mobile_number'].count())\n",
    "print('\\n Roam IC 0 Active Month Distribution \\n ')\n",
    "print(hv_custdata[hv_custdata['roam_ic_mou_active']==0].groupby(['churn'])['mobile_number'].count())\n"
   ]
  },
  {
   "cell_type": "code",
   "execution_count": null,
   "id": "d4b7525b",
   "metadata": {},
   "outputs": [],
   "source": [
    "hv_custdata['roam_ic_mou_good']=hv_custdata['roam_ic_mou_good'].fillna(0)\n",
    "hv_custdata['roam_ic_mou_active']=hv_custdata['roam_ic_mou_active'].fillna(0)\n",
    "hv_custdata[['roam_ic_mou_good','roam_ic_mou_active']].describe(percentiles=[0.75,.995,.998,.999,1.00])"
   ]
  },
  {
   "cell_type": "code",
   "execution_count": null,
   "id": "b15b6d0a",
   "metadata": {},
   "outputs": [],
   "source": [
    "hv_custdata[hv_custdata['roam_ic_mou_active']>np.percentile(hv_custdata['roam_ic_mou_active'],99.99)][['roam_ic_mou_good','roam_ic_mou_active','churn']]"
   ]
  },
  {
   "cell_type": "code",
   "execution_count": null,
   "id": "9baa1f7f",
   "metadata": {},
   "outputs": [],
   "source": [
    "hv_custdata.drop(columns=['roam_ic_mou_6','roam_ic_mou_7'],axis=1,inplace=True)"
   ]
  },
  {
   "cell_type": "code",
   "execution_count": null,
   "id": "dfadd6c6",
   "metadata": {},
   "outputs": [],
   "source": [
    "# Feature: special incoming\n",
    "cols=list(hv_custdata.filter(regex='spl_ic').columns)\n",
    "print(hv_custdata[cols].isnull().sum(axis=0).sort_values(ascending=False))"
   ]
  },
  {
   "cell_type": "code",
   "execution_count": null,
   "id": "8047ae1a",
   "metadata": {},
   "outputs": [],
   "source": [
    "hv_custdata['spl_ic_mou_good']=(hv_custdata['spl_ic_mou_6']+hv_custdata['spl_ic_mou_7'])/2\n",
    "\n",
    "hv_custdata['spl_ic_mou_null_good']=np.where((hv_custdata['spl_ic_mou_good'].isnull()),1,0) \n",
    "hv_custdata['spl_ic_mou_null_active']=np.where((hv_custdata['spl_ic_mou_active'].isnull()),1,0) \n",
    "\n",
    "print('Special IC NaN Good Month Distribution \\n ')\n",
    "print(hv_custdata[hv_custdata['spl_ic_mou_good'].isnull()].groupby(['churn'])['mobile_number'].count())\n",
    "print('\\n Special IC NaN Active Month Distribution \\n ')\n",
    "print(hv_custdata[hv_custdata['spl_ic_mou_active'].isnull()].groupby(['churn'])['mobile_number'].count())\n",
    "\n",
    "print('Special IC 0 Good Month Distribution \\n ')\n",
    "print(hv_custdata[hv_custdata['spl_ic_mou_good']==0].groupby(['churn'])['mobile_number'].count())\n",
    "print('\\n Special IC 0 Active Month Distribution \\n ')\n",
    "print(hv_custdata[hv_custdata['spl_ic_mou_active']==0].groupby(['churn'])['mobile_number'].count())\n"
   ]
  },
  {
   "cell_type": "code",
   "execution_count": null,
   "id": "195e45ba",
   "metadata": {},
   "outputs": [],
   "source": [
    "hv_custdata['spl_ic_mou_good']=hv_custdata['spl_ic_mou_good'].fillna(0)\n",
    "hv_custdata['spl_ic_mou_active']=hv_custdata['spl_ic_mou_active'].fillna(0)\n",
    "hv_custdata[['spl_ic_mou_good','spl_ic_mou_active']].describe(percentiles=[0.75,.995,.998,.999,1.00])"
   ]
  },
  {
   "cell_type": "code",
   "execution_count": null,
   "id": "d02505cf",
   "metadata": {},
   "outputs": [],
   "source": [
    "hv_custdata[hv_custdata['spl_ic_mou_good']>np.percentile(hv_custdata['spl_ic_mou_good'],99.98)][['spl_ic_mou_good','spl_ic_mou_active','churn']]"
   ]
  },
  {
   "cell_type": "code",
   "execution_count": null,
   "id": "85f524fc",
   "metadata": {},
   "outputs": [],
   "source": [
    "hv_custdata=hv_custdata[~(hv_custdata['spl_ic_mou_good']>np.percentile(hv_custdata['spl_ic_mou_good'],99.98))]\n",
    "hv_custdata.drop(columns=['spl_ic_mou_6','spl_ic_mou_7'],axis=1,inplace=True)"
   ]
  },
  {
   "cell_type": "code",
   "execution_count": null,
   "id": "1b5ce6cb",
   "metadata": {},
   "outputs": [],
   "source": [
    "# Feature : Other ic\n",
    "cols=list(hv_custdata.filter(regex='ic_others').columns)\n",
    "print(hv_custdata[cols].isnull().sum(axis=0).sort_values(ascending=False))"
   ]
  },
  {
   "cell_type": "code",
   "execution_count": null,
   "id": "fa8f210d",
   "metadata": {},
   "outputs": [],
   "source": [
    "hv_custdata['ic_others_good']=(hv_custdata['ic_others_6']+hv_custdata['ic_others_7'])/2\n",
    "\n",
    "hv_custdata['ic_others_null_good']=np.where((hv_custdata['ic_others_good'].isnull()),1,0) \n",
    "hv_custdata['ic_others_null_active']=np.where((hv_custdata['ic_others_active'].isnull()),1,0) \n",
    "\n",
    "print('Other IC NaN Good Month Distribution \\n ')\n",
    "print(hv_custdata[hv_custdata['ic_others_good'].isnull()].groupby(['churn'])['mobile_number'].count())\n",
    "print('\\n Other IC NaN Active Month Distribution \\n ')\n",
    "print(hv_custdata[hv_custdata['ic_others_active'].isnull()].groupby(['churn'])['mobile_number'].count())\n",
    "\n",
    "print('Other IC 0 Good Month Distribution \\n ')\n",
    "print(hv_custdata[hv_custdata['ic_others_good']==0].groupby(['churn'])['mobile_number'].count())\n",
    "print('\\n Other IC 0 Active Month Distribution \\n ')\n",
    "print(hv_custdata[hv_custdata['ic_others_active']==0].groupby(['churn'])['mobile_number'].count())"
   ]
  },
  {
   "cell_type": "code",
   "execution_count": null,
   "id": "1b8ed532",
   "metadata": {},
   "outputs": [],
   "source": [
    "hv_custdata['ic_others_good']=hv_custdata['ic_others_good'].fillna(0)\n",
    "hv_custdata['ic_others_active']=hv_custdata['ic_others_active'].fillna(0)\n",
    "hv_custdata[['ic_others_good','ic_others_active']].describe(percentiles=[0.75,.995,.998,.999,1.00])"
   ]
  },
  {
   "cell_type": "code",
   "execution_count": null,
   "id": "492a0034",
   "metadata": {},
   "outputs": [],
   "source": [
    "hv_custdata[hv_custdata['ic_others_good']>np.percentile(hv_custdata['ic_others_good'],99.97)][['ic_others_good','ic_others_active','churn']]"
   ]
  },
  {
   "cell_type": "code",
   "execution_count": null,
   "id": "430eca13",
   "metadata": {},
   "outputs": [],
   "source": [
    "hv_custdata=hv_custdata[~(hv_custdata['ic_others_good']>np.percentile(hv_custdata['ic_others_good'],99.97))]\n",
    "hv_custdata.drop(columns=['ic_others_6','ic_others_7'],axis=1,inplace=True)"
   ]
  },
  {
   "cell_type": "code",
   "execution_count": null,
   "id": "c8043780",
   "metadata": {},
   "outputs": [],
   "source": [
    "# Feature : isd ic\n",
    "cols=list(hv_custdata.filter(regex='isd_ic').columns)\n",
    "print(hv_custdata[cols].isnull().sum(axis=0).sort_values(ascending=False))"
   ]
  },
  {
   "cell_type": "code",
   "execution_count": null,
   "id": "6b62a0f7",
   "metadata": {},
   "outputs": [],
   "source": [
    "hv_custdata['isd_ic_mou_good']=(hv_custdata['isd_ic_mou_6']+hv_custdata['isd_ic_mou_7'])/2\n",
    "\n",
    "hv_custdata['isd_ic_mou_null_good']=np.where((hv_custdata['isd_ic_mou_good'].isnull()),1,0) \n",
    "hv_custdata['isd_ic_mou_null_active']=np.where((hv_custdata['isd_ic_mou_active'].isnull()),1,0) \n",
    "\n",
    "print('ISD IC NaN Good Month Distribution \\n ')\n",
    "print(hv_custdata[hv_custdata['isd_ic_mou_good'].isnull()].groupby(['churn'])['mobile_number'].count())\n",
    "print('\\n ISD IC NaN Active Month Distribution \\n ')\n",
    "print(hv_custdata[hv_custdata['isd_ic_mou_active'].isnull()].groupby(['churn'])['mobile_number'].count())\n",
    "\n",
    "print('ISD IC 0 Good Month Distribution \\n ')\n",
    "print(hv_custdata[hv_custdata['isd_ic_mou_good']==0].groupby(['churn'])['mobile_number'].count())\n",
    "print('\\n ISD ic 0 Active Month Distribution \\n ')\n",
    "print(hv_custdata[hv_custdata['isd_ic_mou_active']==0].groupby(['churn'])['mobile_number'].count())"
   ]
  },
  {
   "cell_type": "code",
   "execution_count": null,
   "id": "686db183",
   "metadata": {},
   "outputs": [],
   "source": [
    "hv_custdata['isd_ic_mou_good']=hv_custdata['isd_ic_mou_good'].fillna(0)\n",
    "hv_custdata['isd_ic_mou_active']=hv_custdata['isd_ic_mou_active'].fillna(0)\n",
    "hv_custdata[['isd_ic_mou_good','isd_ic_mou_active']].describe(percentiles=[0.75,.995,.998,.999,1.00])"
   ]
  },
  {
   "cell_type": "code",
   "execution_count": null,
   "id": "8a8e1c17",
   "metadata": {},
   "outputs": [],
   "source": [
    "hv_custdata[hv_custdata['isd_ic_mou_good']>np.percentile(hv_custdata['isd_ic_mou_good'],99.95)][['isd_ic_mou_good','isd_ic_mou_active','churn']]"
   ]
  },
  {
   "cell_type": "code",
   "execution_count": null,
   "id": "d6baeb2a",
   "metadata": {},
   "outputs": [],
   "source": [
    "hv_custdata=hv_custdata[~(hv_custdata['isd_ic_mou_good']>np.percentile(hv_custdata['isd_ic_mou_good'],99.95))]\n",
    "hv_custdata.drop(columns=['isd_ic_mou_6','isd_ic_mou_7'],axis=1,inplace=True)"
   ]
  },
  {
   "cell_type": "code",
   "execution_count": null,
   "id": "aa1576d5",
   "metadata": {},
   "outputs": [],
   "source": [
    "# Feature: total incoming\n",
    "cols=list(hv_custdata.filter(regex='total_ic_mou').columns)\n",
    "print(hv_custdata[cols].isnull().sum(axis=0).sort_values(ascending=False))"
   ]
  },
  {
   "cell_type": "code",
   "execution_count": null,
   "id": "09c271f2",
   "metadata": {},
   "outputs": [],
   "source": [
    "hv_custdata['total_ic_mou_good']=(hv_custdata['total_ic_mou_6']+hv_custdata['total_ic_mou_7'])/2"
   ]
  },
  {
   "cell_type": "code",
   "execution_count": null,
   "id": "00b031c8",
   "metadata": {},
   "outputs": [],
   "source": [
    "hv_custdata[['total_ic_mou_good','std_ic_mou_good','roam_ic_mou_good','spl_ic_mou_good','loc_ic_mou_good']].head()"
   ]
  },
  {
   "cell_type": "code",
   "execution_count": null,
   "id": "b3860f6a",
   "metadata": {},
   "outputs": [],
   "source": [
    "# total incoming feature is the aggregared feature\n",
    "hv_custdata.drop(columns=['total_ic_mou_6','total_ic_mou_7','total_ic_mou_good','total_ic_mou_active'],axis=1,inplace=True)"
   ]
  },
  {
   "cell_type": "code",
   "execution_count": null,
   "id": "17d2ba57",
   "metadata": {},
   "outputs": [],
   "source": [
    "# Feature out going calls\n",
    "cols=list(hv_custdata.filter(regex='std_og').columns)\n",
    "hv_custdata[cols].head()\n"
   ]
  },
  {
   "cell_type": "code",
   "execution_count": null,
   "id": "fa62a355",
   "metadata": {},
   "outputs": [],
   "source": [
    "hv_custdata['std_og_mou_6']=hv_custdata['std_og_t2f_mou_6']+hv_custdata['std_og_t2m_mou_6']+hv_custdata['std_og_t2t_mou_6']\n",
    "hv_custdata['std_og_mou_7']=hv_custdata['std_og_t2f_mou_6']+hv_custdata['std_og_t2m_mou_6']+hv_custdata['std_og_t2t_mou_6']\n",
    "hv_custdata['std_og_mou_active']=hv_custdata['std_og_t2f_mou_active']+hv_custdata['std_og_t2m_mou_active']+hv_custdata['std_og_t2t_mou_active']\n",
    "hv_custdata['std_og_mou_good']=(hv_custdata['std_og_mou_6']+hv_custdata['std_og_mou_7'])/2\n",
    "\n",
    "hv_custdata['std_og_mou__null_good']=np.where((hv_custdata['std_og_mou_good'].isnull()),1,0) \n",
    "hv_custdata['std_og_mou_null_active']=np.where((hv_custdata['std_og_mou_active'].isnull()),1,0) \n",
    "\n",
    "print('STD OG NaN Good Month Distribution \\n ')\n",
    "print(hv_custdata[hv_custdata['std_og_mou_good'].isnull()].groupby(['churn'])['mobile_number'].count())\n",
    "print('\\n STD OG NaN Active Month Distribution \\n ')\n",
    "print(hv_custdata[hv_custdata['std_og_mou_active'].isnull()].groupby(['churn'])['mobile_number'].count())\n",
    "\n",
    "print('STD OG 0 Good Month Distribution \\n ')\n",
    "print(hv_custdata[hv_custdata['std_og_mou_good']==0].groupby(['churn'])['mobile_number'].count())\n",
    "print('\\n STD OG 0 Active Month Distribution \\n ')\n",
    "print(hv_custdata[hv_custdata['std_og_mou_active']==0].groupby(['churn'])['mobile_number'].count())"
   ]
  },
  {
   "cell_type": "code",
   "execution_count": null,
   "id": "716bccd8",
   "metadata": {},
   "outputs": [],
   "source": [
    "hv_custdata['std_og_mou_good']=hv_custdata['std_og_mou_good'].fillna(0)\n",
    "hv_custdata['std_og_mou_active']=hv_custdata['std_og_mou_active'].fillna(0)\n",
    "hv_custdata[['std_og_mou_good','std_og_mou_active']].describe(percentiles=[0.75,.995,.998,.999,1.00])"
   ]
  },
  {
   "cell_type": "code",
   "execution_count": null,
   "id": "b3249a36",
   "metadata": {},
   "outputs": [],
   "source": [
    "hv_custdata[hv_custdata['std_og_mou_good']>np.percentile(hv_custdata['std_og_mou_good'],99.99)][['std_og_mou_good','std_og_mou_active','churn']]"
   ]
  },
  {
   "cell_type": "code",
   "execution_count": null,
   "id": "977e58be",
   "metadata": {},
   "outputs": [],
   "source": [
    "hv_custdata.drop(columns=['std_og_mou_6','std_og_mou_7','std_og_t2f_mou_6','std_og_t2f_mou_7','std_og_t2f_mou_active','std_og_t2m_mou_6',\n",
    "                 'std_og_t2m_mou_7','std_og_t2m_mou_active','std_og_t2t_mou_6','std_og_t2t_mou_7','std_og_t2t_mou_active'],axis=1,inplace=True)"
   ]
  },
  {
   "cell_type": "code",
   "execution_count": null,
   "id": "e36061c3",
   "metadata": {},
   "outputs": [],
   "source": [
    "cols=list(hv_custdata.filter(regex='roam_og').columns)\n",
    "print(hv_custdata[cols].isnull().sum(axis=0).sort_values(ascending=False))"
   ]
  },
  {
   "cell_type": "code",
   "execution_count": null,
   "id": "59d15d0c",
   "metadata": {},
   "outputs": [],
   "source": [
    "hv_custdata['roam_og_mou_good']=(hv_custdata['roam_og_mou_6']+hv_custdata['roam_og_mou_7'])/2\n",
    "\n",
    "hv_custdata['roam_og_mou_null_good']=np.where((hv_custdata['roam_og_mou_good'].isnull()),1,0) \n",
    "hv_custdata['roam_og_mou_null_active']=np.where((hv_custdata['roam_og_mou_active'].isnull()),1,0) \n",
    "\n",
    "print('Roam OG NaN Good Month Distribution \\n ')\n",
    "print(hv_custdata[hv_custdata['roam_og_mou_good'].isnull()].groupby(['churn'])['mobile_number'].count())\n",
    "print('\\n Roam OG NaN Active Month Distribution \\n ')\n",
    "print(hv_custdata[hv_custdata['roam_og_mou_active'].isnull()].groupby(['churn'])['mobile_number'].count())\n",
    "\n",
    "print('Roam OG 0 Good Month Distribution \\n ')\n",
    "print(hv_custdata[hv_custdata['roam_og_mou_good']==0].groupby(['churn'])['mobile_number'].count())\n",
    "print('\\n Roam OG 0 Active Month Distribution \\n ')\n",
    "print(hv_custdata[hv_custdata['roam_og_mou_active']==0].groupby(['churn'])['mobile_number'].count())"
   ]
  },
  {
   "cell_type": "code",
   "execution_count": null,
   "id": "7c877294",
   "metadata": {},
   "outputs": [],
   "source": [
    "hv_custdata['roam_og_mou_good']=hv_custdata['roam_og_mou_good'].fillna(0)\n",
    "hv_custdata['roam_og_mou_active']=hv_custdata['roam_og_mou_active'].fillna(0)\n",
    "hv_custdata[['roam_og_mou_good','roam_og_mou_active']].describe(percentiles=[0.75,.995,.998,.999,1.00])"
   ]
  },
  {
   "cell_type": "code",
   "execution_count": null,
   "id": "2b7989b5",
   "metadata": {},
   "outputs": [],
   "source": [
    "hv_custdata[hv_custdata['roam_og_mou_active']>np.percentile(hv_custdata['roam_og_mou_active'],99.99)][['roam_og_mou_good','roam_og_mou_active','churn']]"
   ]
  },
  {
   "cell_type": "code",
   "execution_count": null,
   "id": "3a1bdb18",
   "metadata": {},
   "outputs": [],
   "source": [
    "hv_custdata.drop(columns=['roam_og_mou_6','roam_og_mou_7'],axis=1,inplace=True)"
   ]
  },
  {
   "cell_type": "code",
   "execution_count": null,
   "id": "1dc7abab",
   "metadata": {},
   "outputs": [],
   "source": [
    "# Feature: special outgoing\n",
    "cols=list(hv_custdata.filter(regex='spl_og').columns)\n",
    "print(hv_custdata[cols].isnull().sum(axis=0).sort_values(ascending=False))"
   ]
  },
  {
   "cell_type": "code",
   "execution_count": null,
   "id": "2e050e89",
   "metadata": {},
   "outputs": [],
   "source": [
    "hv_custdata['spl_og_mou_good']=(hv_custdata['spl_og_mou_6']+hv_custdata['spl_og_mou_7'])/2\n",
    "\n",
    "hv_custdata['spl_og_mou_null_good']=np.where((hv_custdata['spl_og_mou_good'].isnull()),1,0) \n",
    "hv_custdata['spl_og_mou_null_active']=np.where((hv_custdata['spl_og_mou_active'].isnull()),1,0) \n",
    "\n",
    "print('Special OG NaN Good Month Distribution \\n ')\n",
    "print(hv_custdata[hv_custdata['spl_og_mou_good'].isnull()].groupby(['churn'])['mobile_number'].count())\n",
    "print('\\n Special OG NaN Active Month Distribution \\n ')\n",
    "print(hv_custdata[hv_custdata['spl_og_mou_active'].isnull()].groupby(['churn'])['mobile_number'].count())\n",
    "\n",
    "print('Special OG 0 Good Month Distribution \\n ')\n",
    "print(hv_custdata[hv_custdata['spl_og_mou_good']==0].groupby(['churn'])['mobile_number'].count())\n",
    "print('\\n Special OG 0 Active Month Distribution \\n ')\n",
    "print(hv_custdata[hv_custdata['spl_og_mou_active']==0].groupby(['churn'])['mobile_number'].count())"
   ]
  },
  {
   "cell_type": "code",
   "execution_count": null,
   "id": "76474771",
   "metadata": {},
   "outputs": [],
   "source": [
    "hv_custdata['spl_og_mou_good']=hv_custdata['spl_og_mou_good'].fillna(0)\n",
    "hv_custdata['spl_og_mou_active']=hv_custdata['spl_og_mou_active'].fillna(0)\n",
    "hv_custdata[['spl_og_mou_good','spl_og_mou_active']].describe(percentiles=[0.75,.995,.998,.999,1.00])"
   ]
  },
  {
   "cell_type": "code",
   "execution_count": null,
   "id": "d494e205",
   "metadata": {},
   "outputs": [],
   "source": [
    "hv_custdata[hv_custdata['spl_og_mou_active']>np.percentile(hv_custdata['spl_og_mou_active'],99.96)][['spl_og_mou_good','spl_og_mou_active','churn']]"
   ]
  },
  {
   "cell_type": "code",
   "execution_count": null,
   "id": "239b0482",
   "metadata": {},
   "outputs": [],
   "source": [
    "hv_custdata=hv_custdata[~(hv_custdata['spl_og_mou_active']>np.percentile(hv_custdata['spl_og_mou_active'],99.96))]\n",
    "hv_custdata.drop(columns=['spl_og_mou_6','spl_og_mou_7'],axis=1,inplace=True)"
   ]
  },
  {
   "cell_type": "code",
   "execution_count": null,
   "id": "ca66bd5e",
   "metadata": {},
   "outputs": [],
   "source": [
    "cols=list(hv_custdata.filter(regex='og_others').columns)\n",
    "print(hv_custdata[cols].isnull().sum(axis=0).sort_values(ascending=False))"
   ]
  },
  {
   "cell_type": "code",
   "execution_count": null,
   "id": "33715961",
   "metadata": {},
   "outputs": [],
   "source": [
    "hv_custdata['og_others_good']=(hv_custdata['og_others_6']+hv_custdata['og_others_7'])/2\n",
    "\n",
    "hv_custdata['og_others_null_good']=np.where((hv_custdata['og_others_good'].isnull()),1,0) \n",
    "hv_custdata['og_others_null_active']=np.where((hv_custdata['og_others_active'].isnull()),1,0) \n",
    "\n",
    "print('Other OG NaN Good Month Distribution \\n ')\n",
    "print(hv_custdata[hv_custdata['og_others_good'].isnull()].groupby(['churn'])['mobile_number'].count())\n",
    "print('\\n Other OG NaN Active Month Distribution \\n ')\n",
    "print(hv_custdata[hv_custdata['og_others_active'].isnull()].groupby(['churn'])['mobile_number'].count())\n",
    "\n",
    "print('Other OG 0 Good Month Distribution \\n ')\n",
    "print(hv_custdata[hv_custdata['og_others_good']==0].groupby(['churn'])['mobile_number'].count())\n",
    "print('\\n Other OG 0 Active Month Distribution \\n ')\n",
    "print(hv_custdata[hv_custdata['og_others_active']==0].groupby(['churn'])['mobile_number'].count())"
   ]
  },
  {
   "cell_type": "code",
   "execution_count": null,
   "id": "dfc975ca",
   "metadata": {},
   "outputs": [],
   "source": [
    "hv_custdata['og_others_good']=hv_custdata['og_others_good'].fillna(0)\n",
    "hv_custdata['og_others_active']=hv_custdata['og_others_active'].fillna(0)\n",
    "hv_custdata[['og_others_good','og_others_active']].describe(percentiles=[0.75,.995,.998,.999,1.00])"
   ]
  },
  {
   "cell_type": "code",
   "execution_count": null,
   "id": "2ed327d1",
   "metadata": {},
   "outputs": [],
   "source": [
    "hv_custdata[hv_custdata['og_others_good']>np.percentile(hv_custdata['og_others_good'],99.995)][['og_others_good','og_others_active','churn']]"
   ]
  },
  {
   "cell_type": "code",
   "execution_count": null,
   "id": "fe8ef649",
   "metadata": {},
   "outputs": [],
   "source": [
    "hv_custdata.drop(columns=['og_others_6','og_others_7'],axis=1,inplace=True)\n",
    "\n",
    "# Feature: isd outgoing\n",
    "cols=list(hv_custdata.filter(regex='isd_og').columns)\n",
    "print(hv_custdata[cols].isnull().sum(axis=0).sort_values(ascending=False))"
   ]
  },
  {
   "cell_type": "code",
   "execution_count": null,
   "id": "5e25e478",
   "metadata": {},
   "outputs": [],
   "source": [
    "hv_custdata['isd_og_mou_good']=(hv_custdata['isd_og_mou_6']+hv_custdata['isd_og_mou_7'])/2\n",
    "\n",
    "hv_custdata['isd_og_mou_null_good']=np.where((hv_custdata['isd_og_mou_good'].isnull()),1,0) \n",
    "hv_custdata['isd_og_mou_null_active']=np.where((hv_custdata['isd_og_mou_active'].isnull()),1,0) \n",
    "\n",
    "print('ISD OG NaN Good Month Distribution \\n ')\n",
    "print(hv_custdata[hv_custdata['isd_og_mou_good'].isnull()].groupby(['churn'])['mobile_number'].count())\n",
    "print('\\n ISD OG NaN Active Month Distribution \\n ')\n",
    "print(hv_custdata[hv_custdata['isd_og_mou_active'].isnull()].groupby(['churn'])['mobile_number'].count())\n",
    "\n",
    "print('ISD OG 0 Good Month Distribution \\n ')\n",
    "print(hv_custdata[hv_custdata['isd_og_mou_good']==0].groupby(['churn'])['mobile_number'].count())\n",
    "print('\\n isd OG 0 Active Month Distribution \\n ')\n",
    "print(hv_custdata[hv_custdata['isd_og_mou_active']==0].groupby(['churn'])['mobile_number'].count())"
   ]
  },
  {
   "cell_type": "code",
   "execution_count": null,
   "id": "78f31f87",
   "metadata": {},
   "outputs": [],
   "source": [
    "hv_custdata['isd_og_mou_good']=hv_custdata['isd_og_mou_good'].fillna(0)\n",
    "hv_custdata['isd_og_mou_active']=hv_custdata['isd_og_mou_active'].fillna(0)\n",
    "hv_custdata[['isd_og_mou_good','isd_og_mou_active']].describe(percentiles=[0.75,.995,.998,.999,1.00])\n"
   ]
  },
  {
   "cell_type": "code",
   "execution_count": null,
   "id": "ec76da08",
   "metadata": {},
   "outputs": [],
   "source": [
    "hv_custdata[hv_custdata['isd_og_mou_active']>np.percentile(hv_custdata['isd_og_mou_active'],99.99)][['isd_og_mou_active','isd_og_mou_good','churn']]"
   ]
  },
  {
   "cell_type": "code",
   "execution_count": null,
   "id": "e441ff53",
   "metadata": {},
   "outputs": [],
   "source": [
    "hv_custdata=hv_custdata[~(hv_custdata['isd_og_mou_active']>np.percentile(hv_custdata['isd_og_mou_active'],99.99))]\n",
    "hv_custdata.drop(columns=['isd_og_mou_6','isd_og_mou_7'],axis=1,inplace=True)\n",
    "# Drop total outgoing features which are aggregated features\n",
    "hv_custdata.drop(columns=['total_og_mou_6','total_og_mou_7','total_og_mou_active'],axis=1,inplace=True)\n",
    "hv_custdata.drop(columns=['total_data_rech_amt_6','total_data_rech_amt_7','total_rech_data_6','total_rech_data_7','total_rech_data_active'],axis=1,inplace=True)"
   ]
  },
  {
   "cell_type": "code",
   "execution_count": null,
   "id": "3cb8e71d",
   "metadata": {},
   "outputs": [],
   "source": [
    "hv_custdata['av_rech_amt_data_good']=(hv_custdata['av_rech_amt_data_6']+hv_custdata['av_rech_amt_data_7'])/2\n",
    "hv_custdata[['av_rech_amt_data_good','av_rech_amt_data_active']].describe(percentiles=[0.75,.995,.998,.999,1.00])\n"
   ]
  },
  {
   "cell_type": "code",
   "execution_count": null,
   "id": "7e70737e",
   "metadata": {},
   "outputs": [],
   "source": [
    "hv_custdata[hv_custdata['av_rech_amt_data_good']>np.percentile(hv_custdata['av_rech_amt_data_good'],99.99)][['av_rech_amt_data_good','av_rech_amt_data_active','churn']]"
   ]
  },
  {
   "cell_type": "code",
   "execution_count": null,
   "id": "33ca4711",
   "metadata": {},
   "outputs": [],
   "source": [
    "hv_custdata=hv_custdata[~(hv_custdata['av_rech_amt_data_good']>np.percentile(hv_custdata['av_rech_amt_data_good'],99.99))]\n",
    "\n",
    "hv_custdata.drop(columns=['av_rech_amt_data_6','av_rech_amt_data_7'],axis=1,inplace=True)\n",
    "\n",
    "cols=['total_rech_num_6','total_rech_num_7','total_rech_num_active','total_rech_amt_6','total_rech_amt_7','total_rech_amt_active']\n",
    "print(hv_custdata[cols].isnull().sum(axis=0).sort_values(ascending=False))"
   ]
  },
  {
   "cell_type": "code",
   "execution_count": null,
   "id": "91d1582b",
   "metadata": {},
   "outputs": [],
   "source": [
    "hv_custdata['avg_rech_amt_good']=(hv_custdata['total_rech_amt_6']+hv_custdata['total_rech_amt_7'])/(hv_custdata['total_rech_num_6']+hv_custdata['total_rech_num_7'])\n",
    "hv_custdata['avg_rech_amt_active']=hv_custdata['total_rech_amt_active']/hv_custdata['total_rech_num_active']"
   ]
  },
  {
   "cell_type": "code",
   "execution_count": null,
   "id": "60f7d87a",
   "metadata": {},
   "outputs": [],
   "source": [
    "hv_custdata[['avg_rech_amt_good','avg_rech_amt_active']].describe(percentiles=[0.75,.995,.998,.999,1.00])"
   ]
  },
  {
   "cell_type": "code",
   "execution_count": null,
   "id": "a8d1117c",
   "metadata": {},
   "outputs": [],
   "source": [
    "hv_custdata['avg_rech_amt_null_active']=np.where((hv_custdata['avg_rech_amt_active'].isnull()),1,0) \n",
    "hv_custdata['avg_rech_amt_active']=hv_custdata['avg_rech_amt_active'].fillna(0)"
   ]
  },
  {
   "cell_type": "code",
   "execution_count": null,
   "id": "00277c80",
   "metadata": {},
   "outputs": [],
   "source": [
    "hv_custdata[hv_custdata['avg_rech_amt_good']>np.percentile(hv_custdata['avg_rech_amt_good'],99.99)][['avg_rech_amt_good','avg_rech_amt_active','churn']]"
   ]
  },
  {
   "cell_type": "code",
   "execution_count": null,
   "id": "178142ef",
   "metadata": {},
   "outputs": [],
   "source": [
    "hv_custdata=hv_custdata[~(hv_custdata['avg_rech_amt_good']>np.percentile(hv_custdata['avg_rech_amt_good'],99.99))]\n",
    "\n",
    "hv_custdata.drop(columns=cols,axis=1,inplace=True)\n",
    "\n",
    "cols=['last_day_rch_amt_6','last_day_rch_amt_7','last_day_rch_amt_active']\n",
    "print(hv_custdata[cols].isnull().sum(axis=0).sort_values(ascending=False))"
   ]
  },
  {
   "cell_type": "code",
   "execution_count": null,
   "id": "7e764952",
   "metadata": {},
   "outputs": [],
   "source": [
    "hv_custdata['last_day_rch_amt_good']=(hv_custdata['last_day_rch_amt_6']+hv_custdata['last_day_rch_amt_7'])/2\n",
    "hv_custdata[['last_day_rch_amt_good','last_day_rch_amt_active']].describe(percentiles=[0.75,.995,.998,.999,1.00])"
   ]
  },
  {
   "cell_type": "code",
   "execution_count": null,
   "id": "ef4bf89d",
   "metadata": {},
   "outputs": [],
   "source": [
    "hv_custdata.drop(columns=['last_day_rch_amt_6','last_day_rch_amt_7'],axis=1,inplace=True)\n",
    "\n",
    "hv_custdata['churn_text']=hv_custdata['churn'].apply(lambda x: 'churn' if x==1 else 'no-churn')"
   ]
  },
  {
   "cell_type": "code",
   "execution_count": null,
   "id": "4cb6d4c0",
   "metadata": {},
   "outputs": [],
   "source": [
    "# Derive new features using the dates\n",
    "hv_custdata['rech_before_lastday_6'] = (hv_custdata['last_date_of_month_6']-hv_custdata['date_of_last_rech_6']).apply(lambda x: x.days)\n",
    "hv_custdata['rech_before_lastday_7'] = (hv_custdata['last_date_of_month_7']-hv_custdata['date_of_last_rech_7']).apply(lambda x: x.days)\n",
    "hv_custdata['rech_before_lastday_active'] = (hv_custdata['last_date_of_month_active']-hv_custdata['date_of_last_rech_active']).apply(lambda x: x.days)\n",
    "\n",
    "hv_custdata['rechdata_before_lastday_6'] = (hv_custdata['last_date_of_month_6']-hv_custdata['date_of_last_rech_data_6']).apply(lambda x: x.days)\n",
    "hv_custdata['rechdata_before_lastday_7'] = (hv_custdata['last_date_of_month_7']-hv_custdata['date_of_last_rech_data_7']).apply(lambda x: x.days)\n",
    "hv_custdata['rechdata_before_lastday_active'] = (hv_custdata['last_date_of_month_active']-hv_custdata['date_of_last_rech_data_active']).apply(lambda x: x.days)"
   ]
  },
  {
   "cell_type": "code",
   "execution_count": null,
   "id": "f7065c7e",
   "metadata": {},
   "outputs": [],
   "source": [
    "hv_custdata['rech_before_lastday_good']=(hv_custdata['rech_before_lastday_6']+hv_custdata['rech_before_lastday_7'])/2\n",
    "hv_custdata['rechdata_before_lastday_good']=(hv_custdata['rechdata_before_lastday_6']+hv_custdata['rechdata_before_lastday_7'])/2"
   ]
  },
  {
   "cell_type": "code",
   "execution_count": null,
   "id": "b0192c8e",
   "metadata": {},
   "outputs": [],
   "source": []
  },
  {
   "cell_type": "code",
   "execution_count": null,
   "id": "3c1d3e76",
   "metadata": {},
   "outputs": [],
   "source": [
    "hv_custdata.drop(columns=['rechdata_before_lastday_6','rechdata_before_lastday_7','rech_before_lastday_6','rech_before_lastday_7','date_of_last_rech_6','date_of_last_rech_7','date_of_last_rech_active','date_of_last_rech_data_6','date_of_last_rech_data_7','date_of_last_rech_data_active'],axis=1,inplace=True)"
   ]
  },
  {
   "cell_type": "code",
   "execution_count": null,
   "id": "d828d759",
   "metadata": {},
   "outputs": [],
   "source": [
    "hv_custdata.head()"
   ]
  },
  {
   "cell_type": "code",
   "execution_count": null,
   "id": "0af70e3e",
   "metadata": {},
   "outputs": [],
   "source": [
    "#Drop columns that have same values\n",
    "hv_custdata_unique=hv_custdata.nunique().sort_values()\n",
    "unique_cols=hv_custdata_unique[hv_custdata_unique==1].index\n",
    "hv_custdata.drop(columns=unique_cols,axis=1,inplace=True)"
   ]
  },
  {
   "cell_type": "markdown",
   "id": "7f41385e",
   "metadata": {},
   "source": [
    "# EDA - Data Visualisation and Inferences"
   ]
  },
  {
   "cell_type": "code",
   "execution_count": null,
   "id": "b0977a10",
   "metadata": {},
   "outputs": [],
   "source": [
    "# Define function to plot averages of churn and no-churn cases\n",
    "def avg_bar_plot(cols):\n",
    "    \n",
    "    fig=plt.figure(figsize=(12, 14), dpi=70, facecolor='w', edgecolor='k')\n",
    "    k=1\n",
    "    for i in cols:\n",
    "        plt.subplot(3,3,k)\n",
    "        sub_cols=list(i)+['churn']\n",
    "        a=hv_custdata[sub_cols].groupby('churn')[list(i)].mean().reset_index()\n",
    "        d=pd.melt(a, id_vars=['churn'], value_vars=list(i))\n",
    "        sns.barplot(x=\"variable\", y=\"value\", hue=\"churn\", data=d)\n",
    "        plt.xticks()\n",
    "        k=k+1\n",
    "        \n",
    "    plt.show()\n",
    "    \n",
    "# Define function to plot moving averages\n",
    "def mov_avg_plot(i,j):\n",
    "    temp=hv_custdata[['churn',i,j]]\n",
    "    ax=temp[temp['churn']==0][j].rolling(window=1000).mean().plot()\n",
    "    ax=temp[temp['churn']==0][i].rolling(window=1000).mean().plot()\n",
    "    ax=temp[temp['churn']==1][j].rolling(window=1000).mean().plot()\n",
    "    ax=temp[temp['churn']==1][i].rolling(window=1000).mean().plot()\n",
    "    ax.legend([j+ ' No-Churn',i+ ' No-Churn',j+ ' Churn',i+ ' Churn'])\n",
    "    plt.show()\n",
    "    \n",
    "    \n",
    "# Define function for a stacked plot\n",
    "def stacked_plot(cols):\n",
    "    k=1\n",
    "    for w in cols:\n",
    "        x_value=w[0]\n",
    "        labl=w[1]\n",
    "        hv_custdata[x_value]=hv_custdata[x_value].apply(lambda x:'y' if x==1 else 'n')\n",
    "        hv_custdata_totals=hv_custdata.groupby(by=[x_value,'churn_text'])['mobile_number'].count().reset_index()\n",
    "        hv_custdata_analysis_totals=pd.pivot_table(hv_custdata_totals,values='mobile_number',index=x_value,columns='churn_text').reset_index()\n",
    "        #print(hv_custdata_analysis_totals)\n",
    "        r = range(len(hv_custdata_analysis_totals[x_value]))\n",
    "    \n",
    "        cust_total = [i+j for i,j in zip(hv_custdata_analysis_totals['churn'],hv_custdata_analysis_totals['no-churn'])]\n",
    "        cust_nochurn = [i / j * 100 for i,j in zip(hv_custdata_analysis_totals['no-churn'], cust_total)]\n",
    "        cust_churn = [i / j * 100 for i,j in zip(hv_custdata_analysis_totals['churn'], cust_total)]\n",
    "     \n",
    "        df_percents=pd.DataFrame({x_value:hv_custdata_analysis_totals[x_value],'Churned_off_perc':cust_churn,'No_churn_perc':cust_nochurn})\n",
    "        #print(df_percents)\n",
    "        sns.set(style=\"ticks\")\n",
    "        col_mat=['b','r','g','y','c','m']\n",
    "        m=np.random.randint(1,5)\n",
    "    \n",
    "        ax=df_percents.plot.bar(stacked=True,color=[col_mat[m],col_mat[m-1]])\n",
    "        #print(ax.patches)\n",
    "        for p in ax.patches:\n",
    "            width, height = p.get_width(), p.get_height()\n",
    "            x, y = p.get_xy() \n",
    "            if height!=0:\n",
    "                ax.annotate('{:.2f} %'.format(height), (p.get_x()+.25*width, p.get_y()+.5*height),\n",
    "                        ha='center',\n",
    "                        va='center',\n",
    "                        rotation='horizontal',\n",
    "                        size='smaller')   \n",
    "       \n",
    "        plt.xticks(r,hv_custdata_analysis_totals[x_value],rotation='horizontal')\n",
    "        plt.xlabel(labl)\n",
    "        plt.legend(loc='best', bbox_to_anchor=(1,1), ncol=1)\n",
    "        hv_custdata[x_value]=hv_custdata[x_value].apply(lambda x:1 if x=='y' else 0)\n",
    "        k=k+1\n",
    "        plt.show()\n",
    "\n",
    "        \n",
    "#Define a function to study the trend of service usage across the months\n",
    "def usage_across_time(p):\n",
    "    k=1\n",
    "    fig=plt.figure(figsize=(12, 14), dpi=70, facecolor='w', edgecolor='k')\n",
    "    for cols in p:\n",
    "        x=cols+'_6'\n",
    "        y=cols+'_7'\n",
    "        z=cols+'_active'\n",
    "        b0=hv_custdata_copy.groupby(['last_date_of_month_6','churn'])[x].mean().reset_index()\n",
    "        b1=hv_custdata_copy.groupby(['last_date_of_month_7','churn'])[y].mean().reset_index()\n",
    "        b2=hv_custdata_copy.groupby(['last_date_of_month_active','churn'])[z].mean().reset_index()\n",
    "        b0.rename({'last_date_of_month_6': 'last_date_of_month',x:cols}, axis='columns',inplace=True)\n",
    "        b1.rename({'last_date_of_month_7': 'last_date_of_month',y:cols}, axis='columns',inplace=True)\n",
    "        b2.rename({'last_date_of_month_active': 'last_date_of_month',z:cols}, axis='columns',inplace=True)\n",
    "        b0=b0.append(b1)\n",
    "        c=b0.append(b2)\n",
    "        #print(c)\n",
    "        plt.subplot(3,2,k)\n",
    "        sns.pointplot(x='last_date_of_month',y=cols,hue='churn',data=c)\n",
    "        plt.xticks(rotation='vertical')\n",
    "        k=k+1\n",
    "        \n",
    "    plt.show()"
   ]
  },
  {
   "cell_type": "code",
   "execution_count": null,
   "id": "6a4efe52",
   "metadata": {},
   "outputs": [],
   "source": [
    "mov_avg_plot('arpu_good','arpu_active')"
   ]
  },
  {
   "cell_type": "code",
   "execution_count": null,
   "id": "72f97dbf",
   "metadata": {},
   "outputs": [],
   "source": [
    "avg_bar_plot([('spl_ic_mou_good','spl_ic_mou_active'),('ic_others_good','ic_others_active'),\n",
    "              ('isd_ic_mou_good','isd_ic_mou_active'),('loc_ic_mou_good','loc_ic_mou_active'),\n",
    "              ('roam_ic_mou_good','roam_ic_mou_active'),('std_ic_mou_good','std_ic_mou_active')])"
   ]
  },
  {
   "cell_type": "code",
   "execution_count": null,
   "id": "db76f6c4",
   "metadata": {},
   "outputs": [],
   "source": [
    "avg_bar_plot([('spl_og_mou_good','spl_og_mou_active')])"
   ]
  },
  {
   "cell_type": "code",
   "execution_count": null,
   "id": "2cad24d8",
   "metadata": {},
   "outputs": [],
   "source": [
    "avg_bar_plot([('spl_og_mou_good','spl_og_mou_active'),\n",
    "              ('og_others_good','og_others_active'),\n",
    "              ('isd_og_mou_good','isd_og_mou_active'),\n",
    "              ('loc_og_mou_good','loc_og_mou_active'),\n",
    "              ('roam_og_mou_good','roam_og_mou_active'),\n",
    "              ('std_og_mou_good','std_og_mou_active')])"
   ]
  },
  {
   "cell_type": "code",
   "execution_count": null,
   "id": "d9357763",
   "metadata": {},
   "outputs": [],
   "source": [
    "avg_bar_plot([('vol_2g_mb_good','vol_2g_mb_active'),\n",
    "              ('vol_3g_mb_good','vol_3g_mb_active'),\n",
    "              ('vbc_3g_good','vbc_3g_good'),\n",
    "              ('sachet_2g_good', 'sachet_2g_active'),\n",
    "              ('monthly_2g_good', 'monthly_2g_active'),\n",
    "              ('monthly_3g_good', 'monthly_3g_active')])"
   ]
  },
  {
   "cell_type": "code",
   "execution_count": null,
   "id": "1034ea61",
   "metadata": {},
   "outputs": [],
   "source": [
    "avg_bar_plot([('onnet_mou_good','onnet_mou_active'),\n",
    "              ('offnet_mou_good','offnet_mou_active'),\n",
    "              ('night_pck_user_good','night_pck_user_active'),\n",
    "              ('sachet_3g_good','sachet_3g_active'),\n",
    "              ('count_rech_2g_good','count_rech_2g_active'),\n",
    "              ('count_rech_3g_good','count_rech_3g_active')])"
   ]
  },
  {
   "cell_type": "code",
   "execution_count": null,
   "id": "eea944da",
   "metadata": {},
   "outputs": [],
   "source": [
    "avg_bar_plot([('arpu_good','arpu_active'),\n",
    "              ('av_rech_amt_data_good','av_rech_amt_data_active'),\n",
    "              ('avg_rech_amt_good','avg_rech_amt_active'),\n",
    "              ('last_day_rch_amt_good','last_day_rch_amt_active'),\n",
    "              ('max_rech_amt_good','max_rech_amt_active'),\n",
    "              ('max_rech_data_good','max_rech_data_active')])"
   ]
  },
  {
   "cell_type": "code",
   "execution_count": null,
   "id": "1902e27a",
   "metadata": {},
   "outputs": [],
   "source": [
    "stacked_plot([('ic_others_null_active','Active Month IC others Null Indicator'),\n",
    "              ('ic_others_null_good','Good Month Month IC others Null Indicator'),\n",
    "              ('isd_ic_mou_null_active','Active Month ISD IC Null Indicator'),\n",
    "              ('isd_ic_mou_null_good','Good Month ISD IC Null Indicator'),\n",
    "              ('loc_ic_null_active','Active Month Local IC Null Indicator'),\n",
    "              ('loc_ic_null_good','Good Month Local IC Null Indicator'),\n",
    "              ('roam_ic_mou_null_active','Active Month Roaming IC Null Indicator'),\n",
    "              ('roam_ic_mou_null_good','Good Month Roaming IC Null Indicator'),\n",
    "              ('spl_ic_mou_null_active','Active Month Special IC Null Indicator'),\n",
    "              ('spl_ic_mou_null_good','Good Month Special IC Null Indicator'),\n",
    "              ('std_ic_mou__null_good','Good Month STD IC Null Indicator'),\n",
    "              ('std_ic_mou_null_active','Active Month STD IC Null Indicator')])"
   ]
  },
  {
   "cell_type": "code",
   "execution_count": null,
   "id": "5f72fe3f",
   "metadata": {},
   "outputs": [],
   "source": [
    "stacked_plot([('og_others_null_active','Active Month OG others Null Indicator'),\n",
    "              ('og_others_null_good','Good Month Month OG others Null Indicator'),\n",
    "              ('isd_og_mou_null_active','Active Month ISD OG Null Indicator'),\n",
    "              ('isd_og_mou_null_good','Good Month ISD OG Null Indicator'),\n",
    "              ('loc_og_null_active','Active Month Local OG Null Indicator'),\n",
    "              ('loc_og_null_good','Good Month Local OG Null Indicator'),\n",
    "              ('roam_og_mou_null_active','Active Month Roaming OG Null Indicator'),\n",
    "              ('roam_og_mou_null_good','Good Month Roaming OG Null Indicator'),\n",
    "              ('spl_og_mou_null_active','Active Month Special OG Null Indicator'),\n",
    "              ('spl_og_mou_null_good','Good Month Special OG Null Indicator'),\n",
    "              ('std_og_mou__null_good','Good Month STD OG Null Indicator'),\n",
    "              ('std_og_mou_null_active','Active Month STD OG Null Indicator')])"
   ]
  },
  {
   "cell_type": "code",
   "execution_count": null,
   "id": "90fac19c",
   "metadata": {},
   "outputs": [],
   "source": [
    "stacked_plot([('max_rech_data_null_active','Active Month Max Rech Data Null Indicator'),\n",
    "              ('max_rech_data_null_good','Good Month Max Rech Data Null Indicator'),\n",
    "              ('night_pck_user_null_active','Active Month Night Pk user Null Indicator'),\n",
    "              ('night_pck_user_null_good','Good Month Night Pk user Null Indicator'),\n",
    "              ('offnet_mou_null_active','Active Month Offnet Null Indicator'),\n",
    "              ('offnet_mou_null_active','Good Month Offnet Null Indicator'),\n",
    "              ('onnet_mou_null_active','Active Month Onnet Null Indicator'),\n",
    "              ('onnet_mou_null_active','Good Month Onnet Null Indicator'),\n",
    "              ('avg_rech_amt_null_active','Active Month Avg Rech Amt Null Indicator')])"
   ]
  },
  {
   "cell_type": "markdown",
   "id": "59ed6b57",
   "metadata": {},
   "source": [
    "Findings:\n",
    "\n",
    "From 'Moving Average plot', it is evident that,Average Revenue Per User increases drastically from active months to good months, in case of users who have churned. The increase is marginal for non-churned users - Users whose minutes of usage on incoming calls, outgoing calls reduce are more likely to churn than users whose mou patterns are unchanged.\n",
    "\n",
    "The evidence of change in the incoming calls, indicates the customer communication contact preference and is a staunch indicator of customer using alternate service provider\n",
    "\n",
    "Users who have reduced data volume, sachet, night-packs usage or reduced recharge count/amount are more likely to churn\n",
    "\n",
    "Similarly users showing decreasing trend in onnet/offnet minutes of usage are more likely to churn out"
   ]
  },
  {
   "cell_type": "markdown",
   "id": "814616a0",
   "metadata": {},
   "source": [
    "# Apply Dimensionality Reduction (PCA) and Balance the class as appropriate"
   ]
  },
  {
   "cell_type": "code",
   "execution_count": null,
   "id": "f49ca9a9",
   "metadata": {},
   "outputs": [],
   "source": [
    "print(hv_custdata.shape)\n",
    "hv_custdata.head()"
   ]
  },
  {
   "cell_type": "code",
   "execution_count": null,
   "id": "5799eaaa",
   "metadata": {},
   "outputs": [],
   "source": [
    "#Drop columns that have same values\n",
    "hv_custdata_unique=hv_custdata.nunique().sort_values()\n",
    "unique_cols=hv_custdata_unique[hv_custdata_unique==1].index\n",
    "hv_custdata.drop(columns=unique_cols,axis=1,inplace=True)"
   ]
  },
  {
   "cell_type": "code",
   "execution_count": null,
   "id": "492dfa9f",
   "metadata": {},
   "outputs": [],
   "source": [
    "print(hv_custdata.shape)"
   ]
  },
  {
   "cell_type": "code",
   "execution_count": null,
   "id": "8d54741f",
   "metadata": {},
   "outputs": [],
   "source": [
    "# Standardizing the values\n",
    "hv_custdata_features=hv_custdata.drop(['mobile_number','churn_text','rech_before_lastday_active','rechdata_before_lastday_active','rech_before_lastday_good','rechdata_before_lastday_good'],axis=1)\n",
    "#hv_custdata_features=hv_custdata.drop(['mobile_number','churn_text'],axis=1)\n",
    "cols=list(hv_custdata_features.columns)\n",
    "scaler = MinMaxScaler()\n",
    "scaled_df = scaler.fit_transform(hv_custdata_features)\n",
    "hv_custdata_std=pd.DataFrame(scaled_df, columns=cols)"
   ]
  },
  {
   "cell_type": "code",
   "execution_count": null,
   "id": "cd5bb150",
   "metadata": {},
   "outputs": [],
   "source": [
    "# Put feature variable to x and response variable to y\n",
    "x = hv_custdata_std.drop(['churn'],axis=1)\n",
    "y = hv_custdata_std['churn']\n",
    "\n",
    "# Split the set\n",
    "x_train, x_test, y_train, y_test = train_test_split(x,y, train_size=0.7,test_size=0.3,random_state=100)\n",
    "print(y_train.mean())\n",
    "print(y_train.value_counts())"
   ]
  },
  {
   "cell_type": "code",
   "execution_count": null,
   "id": "d539408e",
   "metadata": {},
   "outputs": [],
   "source": [
    "# Create a frame and empty lists to store the predictor and actual values that help easy model visualisation\n",
    "score_frame=pd.DataFrame()\n",
    "algorithm_name=[]\n",
    "recall_scores=[]\n",
    "f1_scores=[]\n",
    "accuracy_scores=[]\n",
    "\n",
    "\n",
    "# Define function to predict the test data set usinf given algorithm\n",
    "def run_algorithm(algo,x_train_set,y_train_set,x_test_set,y_test_set,algo_name,roc_req):\n",
    "    # algo - model object\n",
    "    # x_train_set - Independent variables from test set\n",
    "    # y_train_set - Predictor variable from training set \n",
    "    # x_test_set - Independent variables from test set \n",
    "    # y_test_set - Predictor variable from test set\n",
    "    # algo_name - Algorithm Name \n",
    "    # roc_req - Calculations of roc, acu and coefficeints\n",
    "    \n",
    "    algo_model = algo.fit(x_train_set,y_train_set)\n",
    "\n",
    "    # predict values and probabilities\n",
    "    y_pred=algo_model.predict(x_test_set)\n",
    "    y_prob=algo_model.predict_proba(x_test_set)[:,1]\n",
    "    y_pred_train=algo_model.predict(x_train_set)\n",
    "    \n",
    "    # Print Values\n",
    "    print (algo_name +' : ')\n",
    "    print('-------------------------')\n",
    "    print(\"Classification report : \",\"\\n\", classification_report(y_test,y_pred))\n",
    "    print(\"Accuracy   Score : \",accuracy_score(y_test,y_pred))\n",
    "    print(\"Recall Score on train Set: \",metrics.recall_score(y_train_set,y_pred_train))\n",
    "    print(\"Recall Score on test Set: \",metrics.recall_score(y_test,y_pred))\n",
    "    \n",
    "    # Set up frames for model scores for later use\n",
    "    algorithm_name.append(algo_name)\n",
    "    recall_scores.append(metrics.recall_score(y_test,y_pred))\n",
    "    f1_scores.append(metrics.f1_score(y_test,y_pred))\n",
    "    accuracy_scores.append(accuracy_score(y_test,y_pred))\n",
    "    \n",
    "    # Plot the ROC curve \n",
    "    if roc_req == 'y':\n",
    "        model_roc_auc = roc_auc_score(y_test,y_pred) \n",
    "        print (\"Area under curve : \",model_roc_auc,\"\\n\")\n",
    "        print(\"Confusion Matrix: \",\"\\n\",metrics.confusion_matrix(y_test,y_prob.round()))\n",
    "        \n",
    "        fpr,tpr,threshold = roc_curve(y_test,y_prob)\n",
    "     \n",
    "        plt.figure(figsize=(5, 5))\n",
    "        plt.plot( fpr, tpr, label='ROC curve (area = %0.2f)' % model_roc_auc)\n",
    "        plt.plot([0, 1], [0, 1], 'k--')\n",
    "        plt.xlim([0.0, 1.0])\n",
    "        plt.ylim([0.0, 1.05])\n",
    "        plt.xlabel('False Positive Rate or [1 - True Negative Rate]')\n",
    "        plt.ylabel('True Positive Rate')\n",
    "        plt.title('Receiver operating characteristic example')\n",
    "        plt.legend(loc=\"lower right\")\n",
    "        plt.show()\n",
    "    return y_test,y_prob "
   ]
  },
  {
   "cell_type": "code",
   "execution_count": null,
   "id": "64f9167a",
   "metadata": {},
   "outputs": [],
   "source": [
    "x_train.shape"
   ]
  },
  {
   "cell_type": "code",
   "execution_count": null,
   "id": "bd8941c3",
   "metadata": {},
   "outputs": [],
   "source": [
    "# Apply PCA on the Sampled data and Run logistic Regression\n",
    "pca = PCA(svd_solver='randomized', random_state=42)\n",
    "pca.fit(x_train)\n",
    "plt.plot(np.cumsum(pca.explained_variance_ratio_))\n",
    "plt.xlabel('number of components')\n",
    "plt.ylabel('cumulative explained variance')\n",
    "plt.show()"
   ]
  },
  {
   "cell_type": "code",
   "execution_count": null,
   "id": "5d57f3f9",
   "metadata": {},
   "outputs": [],
   "source": [
    "pca_final = IncrementalPCA(n_components=25)\n",
    "x_train_pca = pca_final.fit_transform(x_train)\n",
    "y_train_pca = y_train\n",
    "x_test_pca = pca_final.transform(x_test)\n",
    "\n",
    "print(x_test_pca.shape)\n",
    "print(x_train_pca.shape)"
   ]
  },
  {
   "cell_type": "markdown",
   "id": "75a3929c",
   "metadata": {},
   "source": [
    "The following strategy will be followed for class balancing -\n",
    "\n",
    "Run the Logistic Regression to understand the current data status and accurancy model\n",
    "Apply different sampling techniques - SMOTE, ADASYN and Random under sampling. For each sampling, build the model and check metrics\n",
    "Select the sampling technique that gives best metrics"
   ]
  },
  {
   "cell_type": "code",
   "execution_count": null,
   "id": "a26a666b",
   "metadata": {},
   "outputs": [],
   "source": [
    "# Run the Logistic Regression to understand the current data status\n",
    "logreg = LogisticRegression(random_state=42)\n",
    "dummy_var,dummy_var=run_algorithm(logreg,x_train_pca,y_train_pca,x_test_pca,y_test,'Logistic_Regression_Actual_Data','n')"
   ]
  },
  {
   "cell_type": "code",
   "execution_count": null,
   "id": "9318384f",
   "metadata": {},
   "outputs": [],
   "source": [
    "# Apply Adaptive Over Sampling technique\n",
    "asmt = ADASYN(random_state = 42)\n",
    "x_train_asmt, y_train_asmt = asmt.fit_resample(x_train_pca, y_train_pca)\n",
    "print('y_train Adaptive Over Sampling Mean: ',y_train_asmt.mean(),\"\\n\")\n",
    "\n",
    "logreg = LogisticRegression(random_state = 42)\n",
    "dummy_var,dummy_var=run_algorithm(logreg,x_train_asmt,y_train_asmt,x_test_pca,y_test,'Logistic Regression ADASYN','n')\n",
    "\n",
    "adbc = AdaBoostClassifier(n_estimators=10,learning_rate=1)\n",
    "dummy_var,dummy_var=run_algorithm(adbc,x_train_asmt,y_train_asmt,x_test_pca,y_test,'Adaboost Classifier ADASYN','n')\n"
   ]
  },
  {
   "cell_type": "code",
   "execution_count": null,
   "id": "5f4ccede",
   "metadata": {},
   "outputs": [],
   "source": [
    "# Apply Random Under Sampling Techique \n",
    "rusm=RandomUnderSampler(random_state = 42)\n",
    "x_train_rusm, y_train_rusm = rusm.fit_resample(x_train_pca, y_train_pca)\n",
    "print('y_train Random Under Sampling Mean: ',y_train_rusm.mean(),\"\\n\")\n",
    "\n",
    "logreg = LogisticRegression()\n",
    "dummy_var,dummy_var=run_algorithm(logreg,x_train_rusm,y_train_rusm,x_test_pca,y_test,'Logistic_Regression RUS Samp','n')\n",
    "\n",
    "print(\"\\n\")\n",
    "\n",
    "adbc = AdaBoostClassifier(n_estimators=10,learning_rate=1)\n",
    "dummy_var,dummy_var=run_algorithm(adbc,x_train_rusm,y_train_rusm,x_test_pca,y_test,'Adaboost_Classifier RUS Samp','n')\n",
    "\n"
   ]
  },
  {
   "cell_type": "markdown",
   "id": "ff92c3c5",
   "metadata": {},
   "source": [
    "Inference :\n",
    "\n",
    "As per the metrics above, the recall and the overall performance of the model is better when the class is balances using ADYSN Sampling technique. So, select the 'ADYSN' sampling technique for this analysis."
   ]
  },
  {
   "cell_type": "markdown",
   "id": "2f76d47c",
   "metadata": {},
   "source": [
    "# Train ML models and derive the associated metrics"
   ]
  },
  {
   "cell_type": "code",
   "execution_count": null,
   "id": "b1db3aa0",
   "metadata": {},
   "outputs": [],
   "source": [
    "# Apply Logistic Classifier\n",
    "logreg = LogisticRegression(random_state=42)\n",
    "y_test_logrec,y_prob_logrec=run_algorithm(logreg,x_train_asmt,y_train_asmt,x_test_pca,y_test,'Simple Logistic Regression','y')\n",
    "score_frame['Test_Logrec']=y_test_logrec\n",
    "score_frame['Prob_Logrec']=y_prob_logrec"
   ]
  },
  {
   "cell_type": "code",
   "execution_count": null,
   "id": "43b5330c",
   "metadata": {},
   "outputs": [],
   "source": [
    "#Grid Search\n",
    "logreg = LogisticRegression(random_state=42)\n",
    "param = {'C':[0.001,0.003,0.005,0.01,0.03,0.05,0.1,0.3,0.5,1,2,3,3,4,5,10,20]}\n",
    "clf = GridSearchCV(logreg,param,scoring='recall',refit=True,cv=10)\n",
    "clf.fit(x_train_asmt,y_train_asmt)\n",
    "print('Best recall: {:.4}, with best C: {}'.format(clf.best_score_, clf.best_params_))"
   ]
  },
  {
   "cell_type": "code",
   "execution_count": null,
   "id": "645d0499",
   "metadata": {},
   "outputs": [],
   "source": [
    "# Logistic Regression with best gamma constant\n",
    "logreg_cv = LogisticRegression(random_state=42, C=clf.best_params_['C'])\n",
    "y_test_logrec_p,y_prob_logrec_p=run_algorithm(logreg_cv,x_train_asmt,y_train_asmt,x_test_pca,y_test,'Logistic_Reg_P','y')\n",
    "score_frame['Test_Logrec_p']=y_test_logrec_p\n",
    "score_frame['Prob_Logrec_p']=y_prob_logrec_p"
   ]
  },
  {
   "cell_type": "code",
   "execution_count": null,
   "id": "890b970e",
   "metadata": {},
   "outputs": [],
   "source": [
    "#Logistic Regression with balanced weights\n",
    "logreg_bal = LogisticRegression(random_state=42, class_weight='balanced')\n",
    "y_test_logrec_bw,y_prob_logrec_bw=run_algorithm(logreg_bal,x_train_pca,y_train_pca,x_test_pca,y_test,'Logistic_Regression_BW','y')\n",
    "score_frame['Test_Logrec_BW']=y_test_logrec_bw\n",
    "score_frame['Prob_Logrec_BW']=y_prob_logrec_bw"
   ]
  },
  {
   "cell_type": "code",
   "execution_count": null,
   "id": "d1440a86",
   "metadata": {},
   "outputs": [],
   "source": [
    "#Logistic Regression with balanced weights and Penalty\n",
    "logreg_bal_p = LogisticRegression(random_state=42, class_weight='balanced',C=clf.best_params_['C'])\n",
    "y_test_logrec_bwp,y_prob_logrec_bwp=run_algorithm(logreg_bal_p,x_train_pca,y_train_pca,x_test_pca,y_test,'Logistic_Regression_BW_P','y')\n",
    "score_frame['Test_Logrec_BW_P']=y_test_logrec_bwp\n",
    "score_frame['Prob_Logrec_BW_P']=y_prob_logrec_bwp"
   ]
  },
  {
   "cell_type": "code",
   "execution_count": null,
   "id": "d485d28c",
   "metadata": {},
   "outputs": [],
   "source": [
    "# Instantiate the basic random forest model\n",
    "rf = RandomForestClassifier(random_state=42)\n",
    "dummy_var,dummy_var=run_algorithm(rf,x_train_asmt,y_train_asmt,x_test_pca,y_test,'Random_Forest_Classifier','y')"
   ]
  },
  {
   "cell_type": "code",
   "execution_count": null,
   "id": "01e0205f",
   "metadata": {},
   "outputs": [],
   "source": [
    "[estimator.tree_.max_depth for estimator in rf.estimators_]"
   ]
  },
  {
   "cell_type": "code",
   "execution_count": null,
   "id": "578b4bd8",
   "metadata": {},
   "outputs": [],
   "source": [
    "# GridSearchCV to find optimal maximum depth and min_samples_leaf\n",
    "n_folds = 5\n",
    "\n",
    "# parameters to build the model on\n",
    "parameters = {'max_depth': range(10, 50, 4),\n",
    "              'min_samples_leaf': [3,4,5,6] }\n",
    "\n",
    "# instantiate the model\n",
    "rf = RandomForestClassifier(random_state=42)\n",
    "\n",
    "rf = GridSearchCV(rf, param_grid=parameters,\n",
    "                  cv=n_folds, \n",
    "                 scoring=\"recall\")\n",
    "\n",
    "rf.fit(x_train_asmt, y_train_asmt)\n",
    "\n",
    "print('\\n'+'Enter the best parameters: ',rf.best_params_)"
   ]
  },
  {
   "cell_type": "code",
   "execution_count": null,
   "id": "e6440cf2",
   "metadata": {},
   "outputs": [],
   "source": [
    "# model with the best hyperparameters\n",
    "rf_tuned = RandomForestClassifier(bootstrap=True,\n",
    "                             max_depth=rf.best_params_['max_depth'],\n",
    "                             min_samples_leaf=rf.best_params_['min_samples_leaf'],\n",
    "                             n_estimators=100,\n",
    "                             random_state=42)\n",
    "\n",
    "y_test_rfc,y_prob_rfc=run_algorithm(rf_tuned,x_train_asmt,y_train_asmt,x_test_pca,y_test,'Random_Forest_Classifier_T','y')\n",
    "score_frame['Test_RFC']=y_test_rfc\n",
    "score_frame['Prob_RFC']=y_prob_rfc"
   ]
  },
  {
   "cell_type": "code",
   "execution_count": null,
   "id": "f1d08dc6",
   "metadata": {},
   "outputs": [],
   "source": [
    "# Apply Adaboost Classifier\n",
    "adbc = AdaBoostClassifier(n_estimators=50,learning_rate=1,random_state=42)\n",
    "y_test_abc,y_prob_abc=run_algorithm(adbc,x_train_asmt,y_train_asmt,x_test_pca,y_test,'Adaboost_Classifier','y')\n",
    "score_frame['Test_ABC']=y_test_abc\n",
    "score_frame['Prob_ABC']=y_prob_abc"
   ]
  },
  {
   "cell_type": "code",
   "execution_count": null,
   "id": "cadd0df5",
   "metadata": {},
   "outputs": [],
   "source": [
    "# Apply XG Boost Regressor\n",
    "xgb=XGBClassifier(random_state=42)\n",
    "xgb_model = xgb.fit(x_train_asmt,y_train_asmt)\n",
    "\n",
    "# predict values and probabilities\n",
    "y_pred=xgb_model.predict(x_test_pca)\n",
    "\n",
    "y_train_pred = xgb_model.predict(x_train_asmt)\n",
    "print(\"Performance on train set: \", metrics.recall_score(y_train_asmt, y_train_pred.round()))\n",
    "\n",
    "y_test_pred = xgb_model.predict(x_test_pca)\n",
    "print(\"Performance on test set: \", metrics.recall_score(y_test, y_test_pred.round()),\"\\n\")\n",
    "\n",
    "# Print Values\n",
    "print ('XGBooster algorithm' +' : ')\n",
    "print('-------------------------')\n",
    "print(\"Classification report : \",\"\\n\", classification_report(y_test,y_pred.round()))\n",
    "print(\"Accuracy   Score : \",accuracy_score(y_test,y_pred.round()))\n",
    "print(\"Recall Score on Test Set: \",metrics.recall_score(y_test,y_pred.round()))\n",
    "\n",
    "score_frame['Test_XGBC']=y_test\n",
    "score_frame['Prob_XGBC']=y_pred.round()"
   ]
  },
  {
   "cell_type": "markdown",
   "id": "dad7a562",
   "metadata": {},
   "source": [
    "# Derive the prominent features and predictions"
   ]
  },
  {
   "cell_type": "code",
   "execution_count": null,
   "id": "9482cb31",
   "metadata": {},
   "outputs": [],
   "source": [
    "# Define function for a logistic classifier and apply RFE to derive the prominent features. Check multi colienarity.\n",
    "\n",
    "def logrec_rfe(a):\n",
    "    # Feature variable = x and response variable = y\n",
    "    xcols=a.columns\n",
    "    \n",
    "    # Use ADASYN for Over Sampling\n",
    "    asmt = ADASYN(random_state = 42)\n",
    "    x_train_asmt, y_train_asmt = asmt.fit_sample(a, y_train)\n",
    "    print('y_train Adaptive Over Sampling Mean: ',y_train_asmt.mean(),\"\\n\")\n",
    "    \n",
    "    # Set the train and test data\n",
    "    x_train_samp = pd.DataFrame(data=x_train_asmt,columns=xcols)\n",
    "    y_train_samp= pd.DataFrame(data=y_train_asmt,columns=['churn'])\n",
    "\n",
    "    # Run RFE on logistic Regression\n",
    "    logreg_rfe = LogisticRegression(random_state=42)\n",
    "    rfe = RFE(logreg_rfe,25)             # running RFE with 25 variables as output\n",
    "    rfe = rfe.fit(x_train_samp, y_train_samp)\n",
    "\n",
    "    # Select the columns that are supported by RFE\n",
    "    col = x_train_samp.columns[rfe.support_]\n",
    "\n",
    "    x_train_sm = sm.add_constant(x_train_samp[col])\n",
    "    logm2 = sm.GLM(y_train_samp,x_train_sm, family = sm.families.Binomial())\n",
    "    res = logm2.fit()\n",
    "    \n",
    "    # Check Multi colinearity using VIF\n",
    "    vif = pd.DataFrame()\n",
    "    vif['features'] = x_train_samp[col].columns\n",
    "    vif['VIF'] = [variance_inflation_factor(x_train_samp[col].values, i) for i in range(x_train_samp[col].shape[1])]\n",
    "    vif['VIF'] = round(vif['VIF'], 2)\n",
    "    vif = vif.sort_values(by = \"VIF\", ascending = False)\n",
    "    \n",
    "    # Print stat summary and VIF table\n",
    "    print(res.summary())\n",
    "    print(vif)\n",
    "    \n",
    "    return list(vif['features'])\n"
   ]
  },
  {
   "cell_type": "code",
   "execution_count": null,
   "id": "e42c42fa",
   "metadata": {},
   "outputs": [],
   "source": [
    "prom_f = logrec_rfe(x_train)"
   ]
  },
  {
   "cell_type": "code",
   "execution_count": null,
   "id": "7a890860",
   "metadata": {},
   "outputs": [],
   "source": [
    "# Remove the variabl with Highest VIF - arpu_active\n",
    "prom_f=logrec_rfe(x_train.drop(columns=['arpu_active'],axis=1))"
   ]
  },
  {
   "cell_type": "code",
   "execution_count": null,
   "id": "aba61a41",
   "metadata": {},
   "outputs": [],
   "source": [
    "# Remove the aviable with highest p value\n",
    "prom_f=logrec_rfe(x_train.drop(columns=['arpu_active','offnet_mou_active'],axis=1))"
   ]
  },
  {
   "cell_type": "code",
   "execution_count": null,
   "id": "e9e246a6",
   "metadata": {},
   "outputs": [],
   "source": [
    "# Remove the vaiables with highest VIF - 'arpu_good'\n",
    "prom_f=logrec_rfe(x_train.drop(columns=['arpu_active','offnet_mou_active','arpu_good'],axis=1))"
   ]
  },
  {
   "cell_type": "code",
   "execution_count": null,
   "id": "3b11780b",
   "metadata": {},
   "outputs": [],
   "source": [
    "# remove feature with highest VIF - 'sachet_2g_active'\n",
    "prom_f=logrec_rfe(x_train.drop(columns=['arpu_active','offnet_mou_active','arpu_good','sachet_2g_active'],axis=1))"
   ]
  },
  {
   "cell_type": "code",
   "execution_count": null,
   "id": "2e2203dc",
   "metadata": {},
   "outputs": [],
   "source": [
    "# remove feature with highest VIF - 'av_rech_amt_data_active'\n",
    "prom_f=logrec_rfe(x_train.drop(columns=['arpu_active','offnet_mou_active','arpu_good',\n",
    "                                        'sachet_2g_active','av_rech_amt_data_active'],axis=1))"
   ]
  },
  {
   "cell_type": "code",
   "execution_count": null,
   "id": "b8bb260d",
   "metadata": {},
   "outputs": [],
   "source": [
    "avg_bar_plot([('loc_ic_mou_good','loc_ic_mou_active'),\n",
    "             ('vol_3g_mb_good','vol_3g_mb_active'),\n",
    "             ('sachet_3g_good','sachet_3g_active'),\n",
    "             ('spl_og_mou_good','spl_og_mou_active'),\n",
    "             ('std_ic_mou_good','std_ic_mou_active'),('std_og_mou_good','std_og_mou_active')])"
   ]
  },
  {
   "cell_type": "markdown",
   "id": "034cb30a",
   "metadata": {},
   "source": [
    "Inference :\n",
    "\n",
    "A selection of the most prominent features have been analysed and visualised above.\n",
    "It is evident that the rate of decrease in the features - local incoming calls,special out-going calls,std calls are staunch indicators of churn behaviour.\n",
    "This behaviour supports the analysis done in the exploratory stage"
   ]
  },
  {
   "cell_type": "markdown",
   "id": "bd33a9f5",
   "metadata": {},
   "source": [
    "# Model Selection"
   ]
  },
  {
   "cell_type": "code",
   "execution_count": null,
   "id": "75b038e9",
   "metadata": {},
   "outputs": [],
   "source": [
    "# Use the score_frame to draw consolidated ROC curve and Score matris to select the appropriate model\n",
    "\n",
    "score_mat=pd.DataFrame(data={'Algorithm':algorithm_name,\n",
    "      'Recall':recall_scores,\n",
    "      'F1':f1_scores,\n",
    "      'Accuracy':accuracy_scores})\n",
    "\n",
    "print(score_mat)\n",
    "\n",
    "cols=[('Test_Logrec','Prob_Logrec','Logistic Regression'),\n",
    "      ('Test_Logrec_p','Prob_Logrec_p','Logistic Regression - Penalty Constant'),\n",
    "      ('Test_Logrec_BW','Prob_Logrec_BW','Logistic Regression- Balanced Weight'),\n",
    "      ('Test_RFC','Prob_RFC','Random Forest Classifier'),\n",
    "      ('Test_ABC','Prob_ABC','Adaboost Classifier'),\n",
    "      ('Test_XGBC','Prob_XGBC','XGB Boost Classifier')]\n",
    "\n",
    "plt.figure(figsize=(8, 8))\n",
    "\n",
    "for i in cols:\n",
    "    fpr,tpr,threshold = roc_curve(score_frame[i[0]],score_frame[i[1]])\n",
    "    plt.plot( fpr, tpr, label=i[2])\n",
    "\n",
    "\n",
    "plt.plot([0, 1], [0, 1], 'k--')\n",
    "plt.xlim([0.0, 1.0])\n",
    "plt.ylim([0.0, 1.05])\n",
    "plt.xlabel('False Positive Rate or [1 - True Negative Rate]')\n",
    "plt.ylabel('True Positive Rate')\n",
    "plt.title('Receiver Operating Characteristics')\n",
    "plt.legend(loc=\"lower right\")\n",
    "\n",
    "plt.show()\n",
    "\n",
    "plt.figure(figsize=(8, 8))\n",
    "for i in cols:\n",
    "    precision, recall, threshold = precision_recall_curve(score_frame[i[0]],score_frame[i[1]])\n",
    "    plt.plot( precision, recall, label=i[2])\n",
    "\n",
    "plt.xlim([0.0, 1.0])\n",
    "plt.ylim([0.0, 1.05])\n",
    "plt.xlabel('Recall')\n",
    "plt.ylabel('Precision')\n",
    "plt.title('Recall vs Precision Charecteric')\n",
    "plt.legend(loc=\"top left\")\n",
    "plt.show()"
   ]
  },
  {
   "cell_type": "code",
   "execution_count": null,
   "id": "beab06ae",
   "metadata": {},
   "outputs": [],
   "source": [
    "# Rerun the selected model with Prominent features\n",
    "\n",
    "a=x_train[prom_f]\n",
    "b=x_test[prom_f]\n",
    "asmt = ADASYN(random_state = 42)\n",
    "x_train_asmt, y_train_asmt = asmt.fit_sample(a, y_train)\n",
    "print('y_train Adaptive Over Sampling Mean: ',y_train_asmt.mean(),\"\\n\")\n",
    "    \n",
    "# Set the train and test data\n",
    "x_train_samp = pd.DataFrame(data=x_train_asmt,columns=prom_f)\n",
    "y_train_samp= pd.DataFrame(data=y_train_asmt,columns=['churn'])\n",
    "\n",
    "# Run Logistic Regression with Balanced Weights\n",
    "y_test,y_pred=run_algorithm(logreg_bal_p,x_train_samp,y_train_samp,b,y_test,'Logistic_Regression_BW_P','y')\n",
    "precision, recall, threshold = precision_recall_curve(y_test,y_pred)\n",
    "plt.plot( precision, recall)\n",
    "plt.xlabel('Recall')\n",
    "plt.ylabel('Precision')\n",
    "plt.title('Recall vs Precision Charecteric')\n",
    "plt.show()"
   ]
  },
  {
   "cell_type": "markdown",
   "id": "790b4a01",
   "metadata": {},
   "source": [
    "The Top 5 prominent features to determine the customer churn behaviour are:\n",
    "\n",
    "The sudden surge in the special incoming and out going calls in the Active months\n",
    "\n",
    "Considerable reduction in the std incoming and out going calls\n",
    "\n",
    "Sudden reduction in the usage of 3g data services\n",
    "\n",
    "Sudden drop in the local incoming calls. ( The contact preferences of the customer changing)\n",
    "\n",
    "Sudden reduction in the usage of services with validity less than a month - for example 3g Sachets\n",
    "It is also evident from Exploratory Data Analysis, that where the data is not collected ( NaNs), the percentage of Churn is higher.The KPI data collection methods will need to be reviewed for a better prediction."
   ]
  },
  {
   "cell_type": "code",
   "execution_count": null,
   "id": "01bffbb3",
   "metadata": {},
   "outputs": [],
   "source": []
  }
 ],
 "metadata": {
  "kernelspec": {
   "display_name": "Python 3 (ipykernel)",
   "language": "python",
   "name": "python3"
  },
  "language_info": {
   "codemirror_mode": {
    "name": "ipython",
    "version": 3
   },
   "file_extension": ".py",
   "mimetype": "text/x-python",
   "name": "python",
   "nbconvert_exporter": "python",
   "pygments_lexer": "ipython3",
   "version": "3.10.9"
  }
 },
 "nbformat": 4,
 "nbformat_minor": 5
}
